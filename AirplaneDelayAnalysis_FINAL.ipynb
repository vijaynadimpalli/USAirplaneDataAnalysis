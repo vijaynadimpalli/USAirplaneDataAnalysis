{
  "nbformat": 4,
  "nbformat_minor": 0,
  "metadata": {
    "colab": {
      "name": "AirplaneDelayAnalysis-FINAL.ipynb",
      "provenance": [],
      "collapsed_sections": [],
      "authorship_tag": "ABX9TyMKMV8TQboqyn8jylLhsoI9",
      "include_colab_link": true
    },
    "kernelspec": {
      "display_name": "Python 3",
      "name": "python3"
    }
  },
  "cells": [
    {
      "cell_type": "markdown",
      "metadata": {
        "id": "view-in-github",
        "colab_type": "text"
      },
      "source": [
        "<a href=\"https://colab.research.google.com/github/vijaynadimpalli/USAirplaneDataAnalysis/blob/main/AirplaneDelayAnalysis_FINAL.ipynb\" target=\"_parent\"><img src=\"https://colab.research.google.com/assets/colab-badge.svg\" alt=\"Open In Colab\"/></a>"
      ]
    },
    {
      "cell_type": "code",
      "metadata": {
        "colab": {
          "base_uri": "https://localhost:8080/"
        },
        "id": "NY3Onp0H-Uc4",
        "outputId": "3eb06384-1479-4d07-c16e-e370516f2c4f"
      },
      "source": [
        "!pip install pandas==1.1.1"
      ],
      "execution_count": null,
      "outputs": [
        {
          "output_type": "stream",
          "text": [
            "Requirement already satisfied: pandas==1.1.1 in /usr/local/lib/python3.6/dist-packages (1.1.1)\n",
            "Requirement already satisfied: python-dateutil>=2.7.3 in /usr/local/lib/python3.6/dist-packages (from pandas==1.1.1) (2.8.1)\n",
            "Requirement already satisfied: numpy>=1.15.4 in /usr/local/lib/python3.6/dist-packages (from pandas==1.1.1) (1.18.5)\n",
            "Requirement already satisfied: pytz>=2017.2 in /usr/local/lib/python3.6/dist-packages (from pandas==1.1.1) (2018.9)\n",
            "Requirement already satisfied: six>=1.5 in /usr/local/lib/python3.6/dist-packages (from python-dateutil>=2.7.3->pandas==1.1.1) (1.15.0)\n"
          ],
          "name": "stdout"
        }
      ]
    },
    {
      "cell_type": "markdown",
      "metadata": {
        "id": "mvq0WigK6U1f"
      },
      "source": [
        "Downloadidng Data frm transstats dataset...\n",
        " https://www.transtats.bts.gov/Tables.asp?DB_ID=120&DB_Name=Airline%20On-Time%20Performance%20Data&DB_Short_Name=On-Time\n",
        "\n",
        "Download link :: https://transtats.bts.gov/PREZIP/On_Time_Reporting_Carrier_On_Time_Performance_1987_present_2000_2.zip"
      ]
    },
    {
      "cell_type": "code",
      "metadata": {
        "colab": {
          "base_uri": "https://localhost:8080/"
        },
        "id": "AzP4BMHTCtF0",
        "outputId": "87a21c19-6423-4e4d-d3ad-74d11d5ffdc0"
      },
      "source": [
        "!pip install wget"
      ],
      "execution_count": null,
      "outputs": [
        {
          "output_type": "stream",
          "text": [
            "Requirement already satisfied: wget in /usr/local/lib/python3.6/dist-packages (3.2)\n"
          ],
          "name": "stdout"
        }
      ]
    },
    {
      "cell_type": "code",
      "metadata": {
        "id": "fhpmHuWOOfML"
      },
      "source": [
        "import seaborn as sns\n",
        "import matplotlib.pyplot as plt\n",
        "import matplotlib\n",
        "import numpy as np\n",
        "\n",
        "#import dtypeconverter"
      ],
      "execution_count": null,
      "outputs": []
    },
    {
      "cell_type": "markdown",
      "metadata": {
        "id": "kK2DBPHI-2ot"
      },
      "source": [
        "# Memory Optimization and Data Preprocessing...."
      ]
    },
    {
      "cell_type": "code",
      "metadata": {
        "colab": {
          "base_uri": "https://localhost:8080/"
        },
        "id": "sXA0n8_e0-8D",
        "outputId": "2794915e-0d7d-467b-99f5-b04ed8eecd16"
      },
      "source": [
        "file_prefix = \"On_Time_Reporting_Carrier_On_Time_Performance_1987_present_\"\n",
        "csv_prefix = \"On_Time_Reporting_Carrier_On_Time_Performance_(1987_present)_\"\n",
        "\n",
        "remove_cols = ['DOT_ID_Reporting_Airline',\n",
        "       'IATA_CODE_Reporting_Airline','Flight_Number_Reporting_Airline','OriginAirportID',\n",
        "       'OriginAirportSeqID', 'OriginCityMarketID','OriginStateFips','OriginWac',\n",
        "       'DestAirportID', 'DestAirportSeqID', 'DestCityMarketID', \n",
        "       'DestStateFips', 'DestWac','FirstDepTime', 'TotalAddGTime',\n",
        "       'LongestAddGTime','Flights']\n",
        "#List of cols to be Removed, which i felt were unnecessary for now....\n",
        "\n",
        "\n",
        "#Pandas does not support NaN values on int64 or bool(because NaN is a float), so you need to use Int64 or float64 or boolean\n",
        "#also putting every column as float16 is causing white bars in seaborn plots so not recommended..\n",
        "#pandas convert_dtypes() automatically converts to nullable dtypes. i.e floats with NaN will be converted to Int  \n",
        "#but seaborn does not recognize Int64 datatype for now...so convert_dtypes is useless\n",
        "#https://github.com/mwaskom/seaborn/issues/1971\n",
        "\n",
        "\n",
        "cols_for_dtype = ['Year', 'Quarter', 'Month', 'DayofMonth', 'DayOfWeek',\n",
        "       'Reporting_Airline', 'Tail_Number', 'Origin', 'OriginCityName',\n",
        "       'OriginState', 'OriginStateName', 'Dest', 'DestCityName', 'DestState',\n",
        "       'DestStateName', 'CRSDepTime', 'DepTime', 'DepDelay', 'DepDelayMinutes',\n",
        "       'DepDel15', 'DepartureDelayGroups', 'DepTimeBlk', 'TaxiOut',\n",
        "       'WheelsOff', 'WheelsOn', 'TaxiIn', 'CRSArrTime', 'ArrTime', 'ArrDelay',\n",
        "       'ArrDelayMinutes', 'ArrDel15', 'ArrivalDelayGroups', 'ArrTimeBlk',\n",
        "       'Cancelled', 'CancellationCode', 'Diverted', 'CRSElapsedTime',\n",
        "       'ActualElapsedTime', 'AirTime', 'Distance', 'DistanceGroup',\n",
        "       'CarrierDelay', 'WeatherDelay', 'NASDelay', 'SecurityDelay',\n",
        "       'LateAircraftDelay']\n",
        " #list of cols for type change(all columns including object cols)\n",
        "\n",
        " #the dtype values below were chosen by running the below line....\n",
        " #type_dict = dtypeconverter.main(df)\n",
        " \n",
        "col_dtype=['int16', 'int8', 'int8', 'int8', 'int8', 'category',\n",
        " 'category','category','category','category','category','category','category',\n",
        " 'category','category','int16','float32','float32','float32','float32','float32',\n",
        " 'category','float32','float32','float32','float32','int16','float32','float32',\n",
        " 'float32','float32','float32','category','float32','category','float32','float32',\n",
        " 'float32','float32','float32','int8','float32','float32','float32','float32',\n",
        " 'float32']\n",
        "\n",
        "\n",
        "\n",
        "type_dict = dict(zip(cols_for_dtype,col_dtype))\n",
        "\n",
        "print(len(cols_for_dtype))\n",
        "print(len(col_dtype))"
      ],
      "execution_count": null,
      "outputs": [
        {
          "output_type": "stream",
          "text": [
            "46\n",
            "46\n"
          ],
          "name": "stdout"
        }
      ]
    },
    {
      "cell_type": "code",
      "metadata": {
        "colab": {
          "background_save": true
        },
        "id": "nhyz_DIB6Y8-",
        "outputId": "e39a4fbf-e86b-4c3b-9030-0718b5cb62d3"
      },
      "source": [
        "import wget\n",
        "from zipfile import ZipFile\n",
        "import os\n",
        "from os import path\n",
        "import pandas as pd\n",
        "\n",
        "\n",
        "def col_checker(x):\n",
        "  if x in remove_cols:\n",
        "    #print('Removed column : '+ x)\n",
        "    return False\n",
        "  if x=='Diverted':\n",
        "    return True\n",
        "  if x[0:3]=='Div':\n",
        "    return False  \n",
        "  return True\n",
        "\n",
        "\n",
        "def download_extract(year_month):\n",
        "  token = file_prefix  + year_month\n",
        "  if os.path.exists(csv_prefix + year_month + \".csv\"):\n",
        "    print(\"File Already Exists!\")\n",
        "    return\n",
        "  wget.download(\"https://transtats.bts.gov/PREZIP/\"+token+\".zip\")\n",
        "  ZipFile(token + \".zip\").extractall()\n",
        "  os.remove(token + \".zip\")\n",
        "  os.remove(\"readme.html\")\n",
        "\n",
        "\n",
        "def run_all_downloads():\n",
        "  all_files = []\n",
        "  year = 2019\n",
        "  for month in range(1,13):\n",
        "    year_month = str(year)+\"_\"+str(month)\n",
        "    download_extract(year_month)\n",
        "    all_files.append(csv_prefix + year_month + \".csv\")\n",
        "  return all_files\n",
        "\n",
        "\n",
        "files = run_all_downloads()\n",
        "#takes 15 minutes to download 1 year of data\n",
        "\n",
        "df = pd.concat([pd.read_csv(x,usecols=col_checker,dtype=type_dict,parse_dates=['FlightDate']) for x in files],axis=0)\n",
        "print(\"DONE*************\")\n",
        "#df['DepartureDelayGroups'] = df['DepartureDelayGroups'].apply(lambda x : (15*x,15*(x+1))).astype('category')\n",
        "print(\"DONE*************\")\n",
        "#df['ArrivalDelayGroups'] = df['ArrivalDelayGroups'].apply(lambda x : (15*x,15*(x+1))).astype('category')\n",
        "df.reset_index(inplace=True,drop=True)\n",
        "df.dropna(how='all', axis='columns',inplace=True) # removing Unnamed: 109 columns which has all NaN values\n",
        "\n",
        "#df.to_csv(\"2019_complete.csv\",index=False)\n",
        "#takes 5 minutes to concat and save as csv file.. 2.1GB final size"
      ],
      "execution_count": null,
      "outputs": [
        {
          "output_type": "stream",
          "text": [
            "DONE*************\n",
            "DONE*************\n"
          ],
          "name": "stdout"
        }
      ]
    },
    {
      "cell_type": "code",
      "metadata": {
        "colab": {
          "background_save": true
        },
        "id": "bQ71uaSVtnoz",
        "outputId": "2581d023-3955-4af1-e255-0936f827004f"
      },
      "source": [
        "#Looking at the memory consumption of the dataset...\n",
        "df.info(memory_usage='deep')"
      ],
      "execution_count": null,
      "outputs": [
        {
          "output_type": "stream",
          "text": [
            "<class 'pandas.core.frame.DataFrame'>\n",
            "RangeIndex: 7422037 entries, 0 to 7422036\n",
            "Data columns (total 47 columns):\n",
            " #   Column                Dtype         \n",
            "---  ------                -----         \n",
            " 0   Year                  int16         \n",
            " 1   Quarter               int8          \n",
            " 2   Month                 int8          \n",
            " 3   DayofMonth            int8          \n",
            " 4   DayOfWeek             int8          \n",
            " 5   FlightDate            datetime64[ns]\n",
            " 6   Reporting_Airline     category      \n",
            " 7   Tail_Number           object        \n",
            " 8   Origin                object        \n",
            " 9   OriginCityName        object        \n",
            " 10  OriginState           category      \n",
            " 11  OriginStateName       category      \n",
            " 12  Dest                  object        \n",
            " 13  DestCityName          object        \n",
            " 14  DestState             category      \n",
            " 15  DestStateName         category      \n",
            " 16  CRSDepTime            int16         \n",
            " 17  DepTime               float32       \n",
            " 18  DepDelay              float32       \n",
            " 19  DepDelayMinutes       float32       \n",
            " 20  DepDel15              float32       \n",
            " 21  DepartureDelayGroups  float32       \n",
            " 22  DepTimeBlk            category      \n",
            " 23  TaxiOut               float32       \n",
            " 24  WheelsOff             float32       \n",
            " 25  WheelsOn              float32       \n",
            " 26  TaxiIn                float32       \n",
            " 27  CRSArrTime            int16         \n",
            " 28  ArrTime               float32       \n",
            " 29  ArrDelay              float32       \n",
            " 30  ArrDelayMinutes       float32       \n",
            " 31  ArrDel15              float32       \n",
            " 32  ArrivalDelayGroups    float32       \n",
            " 33  ArrTimeBlk            category      \n",
            " 34  Cancelled             float32       \n",
            " 35  CancellationCode      object        \n",
            " 36  Diverted              float32       \n",
            " 37  CRSElapsedTime        float32       \n",
            " 38  ActualElapsedTime     float32       \n",
            " 39  AirTime               float32       \n",
            " 40  Distance              float32       \n",
            " 41  DistanceGroup         int8          \n",
            " 42  CarrierDelay          float32       \n",
            " 43  WeatherDelay          float32       \n",
            " 44  NASDelay              float32       \n",
            " 45  SecurityDelay         float32       \n",
            " 46  LateAircraftDelay     float32       \n",
            "dtypes: category(7), datetime64[ns](1), float32(25), int16(3), int8(5), object(6)\n",
            "memory usage: 3.3 GB\n"
          ],
          "name": "stdout"
        }
      ]
    },
    {
      "cell_type": "markdown",
      "metadata": {
        "id": "JkUNz_P-_4k7"
      },
      "source": [
        "# Data Analysis....."
      ]
    },
    {
      "cell_type": "code",
      "metadata": {
        "colab": {
          "background_save": true
        },
        "id": "GgOu4xO93_Q4",
        "outputId": "1d7f5824-3d3e-4092-918e-1664c5dab81c"
      },
      "source": [
        "#Amount of null values present in the data....\n",
        "df.isna().sum()"
      ],
      "execution_count": null,
      "outputs": [
        {
          "output_type": "execute_result",
          "data": {
            "text/plain": [
              "Year                          0\n",
              "Quarter                       0\n",
              "Month                         0\n",
              "DayofMonth                    0\n",
              "DayOfWeek                     0\n",
              "FlightDate                    0\n",
              "Reporting_Airline             0\n",
              "Tail_Number               17837\n",
              "Origin                        0\n",
              "OriginCityName                0\n",
              "OriginState                   0\n",
              "OriginStateName               0\n",
              "Dest                          0\n",
              "DestCityName                  0\n",
              "DestState                     0\n",
              "DestStateName                 0\n",
              "CRSDepTime                    0\n",
              "DepTime                  130086\n",
              "DepDelay                 130110\n",
              "DepDelayMinutes          130110\n",
              "DepDel15                 130110\n",
              "DepartureDelayGroups     130110\n",
              "DepTimeBlk                    0\n",
              "TaxiOut                  133977\n",
              "WheelsOff                133977\n",
              "WheelsOn                 137647\n",
              "TaxiIn                   137647\n",
              "CRSArrTime                    0\n",
              "ArrTime                  137646\n",
              "ArrDelay                 153805\n",
              "ArrDelayMinutes          153805\n",
              "ArrDel15                 153805\n",
              "ArrivalDelayGroups       153805\n",
              "ArrTimeBlk                    0\n",
              "Cancelled                     0\n",
              "CancellationCode        7287112\n",
              "Diverted                      0\n",
              "CRSElapsedTime              135\n",
              "ActualElapsedTime        153805\n",
              "AirTime                  153805\n",
              "Distance                      0\n",
              "DistanceGroup                 0\n",
              "CarrierDelay            6032784\n",
              "WeatherDelay            6032784\n",
              "NASDelay                6032784\n",
              "SecurityDelay           6032784\n",
              "LateAircraftDelay       6032784\n",
              "dtype: int64"
            ]
          },
          "metadata": {
            "tags": []
          },
          "execution_count": 0
        }
      ]
    },
    {
      "cell_type": "code",
      "metadata": {
        "colab": {
          "background_save": true
        },
        "id": "BMwN1M1o3GpL"
      },
      "source": [
        "# import numpy as np\n",
        "# print(np.finfo('float16'))\n",
        "# print(np.iinfo('int16'))"
      ],
      "execution_count": null,
      "outputs": []
    },
    {
      "cell_type": "code",
      "metadata": {
        "colab": {
          "background_save": true
        },
        "id": "n1V8Om316-1t",
        "outputId": "6d728e57-f705-429c-ee28-f3c6c09af9aa"
      },
      "source": [
        "#Looking at the most popular airlines....\n",
        "from matplotlib import ticker\n",
        "\n",
        "plt.figure(figsize=(12,8))\n",
        "ax=sns.countplot(df['Reporting_Airline'],palette='rocket',order=df['Reporting_Airline'].value_counts().index)\n",
        "ax.yaxis.set_major_formatter(ticker.EngFormatter())\n",
        "plt.xlabel(\"Airline Code\")\n",
        "plt.ylabel(\"Number of flights\")\n",
        "plt.title(\"Number of flights per Airline in 2019\");"
      ],
      "execution_count": null,
      "outputs": [
        {
          "output_type": "stream",
          "text": [
            "/usr/local/lib/python3.6/dist-packages/seaborn/_decorators.py:43: FutureWarning: Pass the following variable as a keyword arg: x. From version 0.12, the only valid positional argument will be `data`, and passing other arguments without an explicit keyword will result in an error or misinterpretation.\n",
            "  FutureWarning\n"
          ],
          "name": "stderr"
        },
        {
          "output_type": "display_data",
          "data": {
            "image/png": "[encoded data removed]",
            "text/plain": [
              "<Figure size 864x576 with 1 Axes>"
            ]
          },
          "metadata": {
            "tags": []
          }
        }
      ]
    },
    {
      "cell_type": "code",
      "metadata": {
        "colab": {
          "background_save": true
        },
        "id": "OKVr_vSVO3Ta",
        "outputId": "e6141e69-0cc7-4c50-f851-943981eb2b84"
      },
      "source": [
        "#Number of Flights per Day of Week\n",
        "plt.figure(figsize=(12,8))\n",
        "ax=sns.countplot(df['DayOfWeek'],palette='pastel')\n",
        "ax.yaxis.set_major_formatter(ticker.EngFormatter())\n",
        "plt.xlabel(\"Day of the week\")\n",
        "plt.ylabel(\"Number of flights\")\n",
        "plt.title(\"Number of flights per Day\");"
      ],
      "execution_count": null,
      "outputs": [
        {
          "output_type": "stream",
          "text": [
            "/usr/local/lib/python3.6/dist-packages/seaborn/_decorators.py:43: FutureWarning: Pass the following variable as a keyword arg: x. From version 0.12, the only valid positional argument will be `data`, and passing other arguments without an explicit keyword will result in an error or misinterpretation.\n",
            "  FutureWarning\n"
          ],
          "name": "stderr"
        },
        {
          "output_type": "display_data",
          "data": {
            "image/png": "[encoded data removed]",
            "text/plain": [
              "<Figure size 864x576 with 1 Axes>"
            ]
          },
          "metadata": {
            "tags": []
          }
        }
      ]
    },
    {
      "cell_type": "code",
      "metadata": {
        "colab": {
          "background_save": true
        },
        "id": "uGrYg8NAPF1_",
        "outputId": "fc8cbe62-5bb7-4bc5-a74c-bbfbe24dddb2"
      },
      "source": [
        "#States in US with highest number of flight departures\n",
        "df['OriginStateName'].value_counts()"
      ],
      "execution_count": null,
      "outputs": [
        {
          "output_type": "execute_result",
          "data": {
            "text/plain": [
              "California                                        814858\n",
              "Texas                                             803314\n",
              "Florida                                           585430\n",
              "Illinois                                          443060\n",
              "Georgia                                           421768\n",
              "New York                                          389436\n",
              "North Carolina                                    341094\n",
              "Colorado                                          282450\n",
              "Virginia                                          271091\n",
              "Arizona                                           204998\n",
              "Michigan                                          203439\n",
              "Pennsylvania                                      188551\n",
              "Nevada                                            184718\n",
              "Minnesota                                         170585\n",
              "Washington                                        161350\n",
              "Massachusetts                                     153634\n",
              "New Jersey                                        142205\n",
              "Tennessee                                         138385\n",
              "Missouri                                          136914\n",
              "Ohio                                              120794\n",
              "Utah                                              120578\n",
              "Hawaii                                            115125\n",
              "Maryland                                          104835\n",
              "Louisiana                                          86370\n",
              "Kentucky                                           83136\n",
              "Oregon                                             76095\n",
              "Indiana                                            67231\n",
              "South Carolina                                     63211\n",
              "Wisconsin                                          60788\n",
              "Oklahoma                                           43425\n",
              "Alabama                                            39869\n",
              "Alaska                                             39801\n",
              "Arkansas                                           31806\n",
              "Nebraska                                           31248\n",
              "Puerto Rico                                        29959\n",
              "Connecticut                                        29783\n",
              "Iowa                                               29532\n",
              "New Mexico                                         27662\n",
              "Idaho                                              26076\n",
              "Montana                                            21532\n",
              "Rhode Island                                       18159\n",
              "North Dakota                                       17141\n",
              "Kansas                                             16178\n",
              "Mississippi                                        15638\n",
              "Maine                                              14924\n",
              "South Dakota                                       14109\n",
              "Vermont                                             9637\n",
              "Wyoming                                             8738\n",
              "New Hampshire                                       8567\n",
              "West Virginia                                       6731\n",
              "U.S. Virgin Islands                                 4647\n",
              "U.S. Pacific Trust Territories and Possessions      1432\n",
              "Name: OriginStateName, dtype: int64"
            ]
          },
          "metadata": {
            "tags": []
          },
          "execution_count": 0
        }
      ]
    },
    {
      "cell_type": "code",
      "metadata": {
        "colab": {
          "background_save": true
        },
        "id": "ZLVUIr70OHpe",
        "outputId": "d780c21c-351d-4922-f94b-6d146d8c2f6e"
      },
      "source": [
        "#Airlines with the highest number of delays...\n",
        "df.groupby(by='Reporting_Airline')['DepDelay','ArrDelay'].mean().sort_values(by=['DepDelay','ArrDelay'],ascending=False)"
      ],
      "execution_count": null,
      "outputs": [
        {
          "output_type": "stream",
          "text": [
            "/usr/local/lib/python3.6/dist-packages/ipykernel_launcher.py:2: FutureWarning: Indexing with multiple keys (implicitly converted to a tuple of keys) will be deprecated, use a list instead.\n",
            "  \n"
          ],
          "name": "stderr"
        },
        {
          "output_type": "execute_result",
          "data": {
            "text/html": [
              "<div>\n",
              "<style scoped>\n",
              "    .dataframe tbody tr th:only-of-type {\n",
              "        vertical-align: middle;\n",
              "    }\n",
              "\n",
              "    .dataframe tbody tr th {\n",
              "        vertical-align: top;\n",
              "    }\n",
              "\n",
              "    .dataframe thead th {\n",
              "        text-align: right;\n",
              "    }\n",
              "</style>\n",
              "<table border=\"1\" class=\"dataframe\">\n",
              "  <thead>\n",
              "    <tr style=\"text-align: right;\">\n",
              "      <th></th>\n",
              "      <th>DepDelay</th>\n",
              "      <th>ArrDelay</th>\n",
              "    </tr>\n",
              "    <tr>\n",
              "      <th>Reporting_Airline</th>\n",
              "      <th></th>\n",
              "      <th></th>\n",
              "    </tr>\n",
              "  </thead>\n",
              "  <tbody>\n",
              "    <tr>\n",
              "      <th>B6</th>\n",
              "      <td>17.745474</td>\n",
              "      <td>11.223515</td>\n",
              "    </tr>\n",
              "    <tr>\n",
              "      <th>EV</th>\n",
              "      <td>17.214006</td>\n",
              "      <td>15.506803</td>\n",
              "    </tr>\n",
              "    <tr>\n",
              "      <th>F9</th>\n",
              "      <td>14.577009</td>\n",
              "      <td>8.715867</td>\n",
              "    </tr>\n",
              "    <tr>\n",
              "      <th>YV</th>\n",
              "      <td>13.803164</td>\n",
              "      <td>10.464875</td>\n",
              "    </tr>\n",
              "    <tr>\n",
              "      <th>UA</th>\n",
              "      <td>13.004563</td>\n",
              "      <td>8.289444</td>\n",
              "    </tr>\n",
              "    <tr>\n",
              "      <th>OO</th>\n",
              "      <td>12.564054</td>\n",
              "      <td>7.184953</td>\n",
              "    </tr>\n",
              "    <tr>\n",
              "      <th>AA</th>\n",
              "      <td>12.114915</td>\n",
              "      <td>6.965412</td>\n",
              "    </tr>\n",
              "    <tr>\n",
              "      <th>NK</th>\n",
              "      <td>10.940950</td>\n",
              "      <td>5.103484</td>\n",
              "    </tr>\n",
              "    <tr>\n",
              "      <th>OH</th>\n",
              "      <td>10.704734</td>\n",
              "      <td>6.706320</td>\n",
              "    </tr>\n",
              "    <tr>\n",
              "      <th>9E</th>\n",
              "      <td>10.245765</td>\n",
              "      <td>3.063844</td>\n",
              "    </tr>\n",
              "    <tr>\n",
              "      <th>WN</th>\n",
              "      <td>10.178762</td>\n",
              "      <td>2.577351</td>\n",
              "    </tr>\n",
              "    <tr>\n",
              "      <th>G4</th>\n",
              "      <td>10.122910</td>\n",
              "      <td>8.005639</td>\n",
              "    </tr>\n",
              "    <tr>\n",
              "      <th>MQ</th>\n",
              "      <td>9.272982</td>\n",
              "      <td>6.882879</td>\n",
              "    </tr>\n",
              "    <tr>\n",
              "      <th>YX</th>\n",
              "      <td>8.544064</td>\n",
              "      <td>4.671774</td>\n",
              "    </tr>\n",
              "    <tr>\n",
              "      <th>DL</th>\n",
              "      <td>8.155754</td>\n",
              "      <td>1.185905</td>\n",
              "    </tr>\n",
              "    <tr>\n",
              "      <th>AS</th>\n",
              "      <td>5.034637</td>\n",
              "      <td>1.351394</td>\n",
              "    </tr>\n",
              "    <tr>\n",
              "      <th>HA</th>\n",
              "      <td>1.296400</td>\n",
              "      <td>0.644995</td>\n",
              "    </tr>\n",
              "  </tbody>\n",
              "</table>\n",
              "</div>"
            ],
            "text/plain": [
              "                    DepDelay   ArrDelay\n",
              "Reporting_Airline                      \n",
              "B6                 17.745474  11.223515\n",
              "EV                 17.214006  15.506803\n",
              "F9                 14.577009   8.715867\n",
              "YV                 13.803164  10.464875\n",
              "UA                 13.004563   8.289444\n",
              "OO                 12.564054   7.184953\n",
              "AA                 12.114915   6.965412\n",
              "NK                 10.940950   5.103484\n",
              "OH                 10.704734   6.706320\n",
              "9E                 10.245765   3.063844\n",
              "WN                 10.178762   2.577351\n",
              "G4                 10.122910   8.005639\n",
              "MQ                  9.272982   6.882879\n",
              "YX                  8.544064   4.671774\n",
              "DL                  8.155754   1.185905\n",
              "AS                  5.034637   1.351394\n",
              "HA                  1.296400   0.644995"
            ]
          },
          "metadata": {
            "tags": []
          },
          "execution_count": 0
        }
      ]
    },
    {
      "cell_type": "code",
      "metadata": {
        "colab": {
          "background_save": true
        },
        "id": "t8Q1chqYP0ZT",
        "outputId": "25821ea4-04d2-4f68-bd19-f449b09d8922"
      },
      "source": [
        "#Average Departure Delay per Month for the 5 worst Airlines\n",
        "\n",
        "fig = plt.figure(figsize=(20,6))\n",
        "ax = fig.add_axes([0,0,1,1])\n",
        "sns.barplot(ax=ax,x='Reporting_Airline',y='DepDelayMinutes',data=df,hue='Month',order=df.groupby(by='Reporting_Airline')[['DepDelay']].mean().sort_values(by=['DepDelay'],ascending=False).index[:5],palette='crest')\n",
        "new_labels = ['Jan', 'Feb', 'Mar', 'Apr', 'May', 'Jun', 'Jul', 'Aug', 'Sep', 'Oct', 'Nov', 'Dec']\n",
        "handles, labels = ax.get_legend_handles_labels()\n",
        "ax.legend(handles=handles, labels=new_labels,title='Month')\n",
        "plt.xlabel(\"Airline Code\")\n",
        "plt.ylabel(\"Average Delay in minutes\")\n",
        "plt.title(\"Average Departure Delay per Month for the 5 worst airlines\");"
      ],
      "execution_count": null,
      "outputs": [
        {
          "output_type": "display_data",
          "data": {
            "image/png": "[encoded data removed]",
            "text/plain": [
              "<Figure size 1440x432 with 1 Axes>"
            ]
          },
          "metadata": {
            "tags": []
          }
        }
      ]
    },
    {
      "cell_type": "code",
      "metadata": {
        "id": "Yfnhc9NoTSjq",
        "colab": {
          "base_uri": "https://localhost:8080/",
          "height": 527
        },
        "outputId": "7fad4320-ae20-4e50-b3be-5bd7c8f08161"
      },
      "source": [
        "#Departure Delay per Month....\n",
        "\n",
        "fig = plt.figure(figsize=(12,6))\n",
        "ax = fig.add_axes([0,0,1,1])\n",
        "sns.barplot(ax=ax,x='Month',data=df,y='DepDelayMinutes',edgecolor='none',palette='pastel')\n",
        "ax.set_xlabel('Month')\n",
        "ax.set_ylabel('Departure Delay in Minutes')\n",
        "ax.set_title('Departure Delay in Minutes per Month for all flights')"
      ],
      "execution_count": null,
      "outputs": [
        {
          "output_type": "execute_result",
          "data": {
            "text/plain": [
              "Text(0.5, 1.0, 'Departure Delay in Minutes per Month for all flights')"
            ]
          },
          "metadata": {
            "tags": []
          },
          "execution_count": 15
        },
        {
          "output_type": "display_data",
          "data": {
            "image/png": "[encoded data removed]",
            "text/plain": [
              "<Figure size 864x432 with 1 Axes>"
            ]
          },
          "metadata": {
            "tags": [],
            "needs_background": "light"
          }
        }
      ]
    },
    {
      "cell_type": "code",
      "metadata": {
        "id": "F8OrCaWm2j81",
        "colab": {
          "base_uri": "https://localhost:8080/",
          "height": 447
        },
        "outputId": "8263f511-080a-4549-c825-1bef719beeb2"
      },
      "source": [
        "#Graph showing both Arrival and Departure Delay per Month...\n",
        "\n",
        "\n",
        "g=sns.catplot(data=pd.melt(df[['ArrDelayMinutes','DepDelayMinutes','Month']],id_vars=['Month']),kind='bar',x='Month',hue='variable',y='value',palette='pastel')\n",
        "g.fig.set_figwidth(12)\n",
        "g.fig.set_figheight(6)\n",
        "legend = g._legend\n",
        "legend.set_title(\"Type of Delay\")\n",
        "for t, l in zip(legend.texts,(\"Arr Delay\", \"Dep Delay\")):\n",
        "    t.set_text(l)\n",
        "\n",
        "\n",
        "g.set_titles('Delay in Minutes per Month')\n",
        "g.set_xlabels('Month')\n",
        "g.set_ylabels('Delay in Minutes');"
      ],
      "execution_count": null,
      "outputs": [
        {
          "output_type": "display_data",
          "data": {
            "image/png": "[encoded data removed]",
            "text/plain": [
              "<Figure size 864x432 with 1 Axes>"
            ]
          },
          "metadata": {
            "tags": [],
            "needs_background": "light"
          }
        }
      ]
    },
    {
      "cell_type": "code",
      "metadata": {
        "id": "YVab-1SAViWI",
        "colab": {
          "base_uri": "https://localhost:8080/",
          "height": 373
        },
        "outputId": "05405247-ffee-4693-bc85-0706304ecfce"
      },
      "source": [
        "#Airports with highest departure avg delays in minutes\n",
        "\n",
        "df.groupby(by='OriginCityName')[['DepDelayMinutes']].mean().sort_values(by='DepDelayMinutes',ascending=False).rename({'DepDelayMinutes':\"Avg Departure Delay\"},axis=1)[:10]"
      ],
      "execution_count": null,
      "outputs": [
        {
          "output_type": "execute_result",
          "data": {
            "text/html": [
              "<div>\n",
              "<style scoped>\n",
              "    .dataframe tbody tr th:only-of-type {\n",
              "        vertical-align: middle;\n",
              "    }\n",
              "\n",
              "    .dataframe tbody tr th {\n",
              "        vertical-align: top;\n",
              "    }\n",
              "\n",
              "    .dataframe thead th {\n",
              "        text-align: right;\n",
              "    }\n",
              "</style>\n",
              "<table border=\"1\" class=\"dataframe\">\n",
              "  <thead>\n",
              "    <tr style=\"text-align: right;\">\n",
              "      <th></th>\n",
              "      <th>Avg Departure Delay</th>\n",
              "    </tr>\n",
              "    <tr>\n",
              "      <th>OriginCityName</th>\n",
              "      <th></th>\n",
              "    </tr>\n",
              "  </thead>\n",
              "  <tbody>\n",
              "    <tr>\n",
              "      <th>North Bend/Coos Bay, OR</th>\n",
              "      <td>38.171745</td>\n",
              "    </tr>\n",
              "    <tr>\n",
              "      <th>Mammoth Lakes, CA</th>\n",
              "      <td>35.853657</td>\n",
              "    </tr>\n",
              "    <tr>\n",
              "      <th>Meridian, MS</th>\n",
              "      <td>34.480423</td>\n",
              "    </tr>\n",
              "    <tr>\n",
              "      <th>Hyannis, MA</th>\n",
              "      <td>33.542168</td>\n",
              "    </tr>\n",
              "    <tr>\n",
              "      <th>Nantucket, MA</th>\n",
              "      <td>33.289906</td>\n",
              "    </tr>\n",
              "    <tr>\n",
              "      <th>Jamestown, ND</th>\n",
              "      <td>32.699135</td>\n",
              "    </tr>\n",
              "    <tr>\n",
              "      <th>Hancock/Houghton, MI</th>\n",
              "      <td>31.379259</td>\n",
              "    </tr>\n",
              "    <tr>\n",
              "      <th>Eagle, CO</th>\n",
              "      <td>31.358860</td>\n",
              "    </tr>\n",
              "    <tr>\n",
              "      <th>Salina, KS</th>\n",
              "      <td>30.712389</td>\n",
              "    </tr>\n",
              "    <tr>\n",
              "      <th>Marquette, MI</th>\n",
              "      <td>30.195175</td>\n",
              "    </tr>\n",
              "  </tbody>\n",
              "</table>\n",
              "</div>"
            ],
            "text/plain": [
              "                         Avg Departure Delay\n",
              "OriginCityName                              \n",
              "North Bend/Coos Bay, OR            38.171745\n",
              "Mammoth Lakes, CA                  35.853657\n",
              "Meridian, MS                       34.480423\n",
              "Hyannis, MA                        33.542168\n",
              "Nantucket, MA                      33.289906\n",
              "Jamestown, ND                      32.699135\n",
              "Hancock/Houghton, MI               31.379259\n",
              "Eagle, CO                          31.358860\n",
              "Salina, KS                         30.712389\n",
              "Marquette, MI                      30.195175"
            ]
          },
          "metadata": {
            "tags": []
          },
          "execution_count": 31
        }
      ]
    },
    {
      "cell_type": "code",
      "metadata": {
        "id": "OOiFC6uGtvCG",
        "colab": {
          "base_uri": "https://localhost:8080/",
          "height": 373
        },
        "outputId": "a1439bc3-5ed6-4b5a-840e-2f15212cca90"
      },
      "source": [
        "#Airports with highest arrival avg delays in minutes\n",
        "df.groupby(by='DestCityName')[['ArrDelayMinutes']].mean().sort_values(by='ArrDelayMinutes',ascending=False).rename({'ArrDelayMinutes':\"Avg Arrival Delay\"},axis=1)[:10]"
      ],
      "execution_count": null,
      "outputs": [
        {
          "output_type": "execute_result",
          "data": {
            "text/html": [
              "<div>\n",
              "<style scoped>\n",
              "    .dataframe tbody tr th:only-of-type {\n",
              "        vertical-align: middle;\n",
              "    }\n",
              "\n",
              "    .dataframe tbody tr th {\n",
              "        vertical-align: top;\n",
              "    }\n",
              "\n",
              "    .dataframe thead th {\n",
              "        text-align: right;\n",
              "    }\n",
              "</style>\n",
              "<table border=\"1\" class=\"dataframe\">\n",
              "  <thead>\n",
              "    <tr style=\"text-align: right;\">\n",
              "      <th></th>\n",
              "      <th>Avg Arrival Delay</th>\n",
              "    </tr>\n",
              "    <tr>\n",
              "      <th>DestCityName</th>\n",
              "      <th></th>\n",
              "    </tr>\n",
              "  </thead>\n",
              "  <tbody>\n",
              "    <tr>\n",
              "      <th>Ogdensburg, NY</th>\n",
              "      <td>32.026211</td>\n",
              "    </tr>\n",
              "    <tr>\n",
              "      <th>Staunton, VA</th>\n",
              "      <td>30.581259</td>\n",
              "    </tr>\n",
              "    <tr>\n",
              "      <th>Devils Lake, ND</th>\n",
              "      <td>29.673504</td>\n",
              "    </tr>\n",
              "    <tr>\n",
              "      <th>Marquette, MI</th>\n",
              "      <td>29.200293</td>\n",
              "    </tr>\n",
              "    <tr>\n",
              "      <th>Laramie, WY</th>\n",
              "      <td>27.816326</td>\n",
              "    </tr>\n",
              "    <tr>\n",
              "      <th>Meridian, MS</th>\n",
              "      <td>26.943975</td>\n",
              "    </tr>\n",
              "    <tr>\n",
              "      <th>Quincy, IL</th>\n",
              "      <td>26.710884</td>\n",
              "    </tr>\n",
              "    <tr>\n",
              "      <th>Newark, NJ</th>\n",
              "      <td>26.603657</td>\n",
              "    </tr>\n",
              "    <tr>\n",
              "      <th>Salina, KS</th>\n",
              "      <td>26.084257</td>\n",
              "    </tr>\n",
              "    <tr>\n",
              "      <th>Ponce, PR</th>\n",
              "      <td>26.070110</td>\n",
              "    </tr>\n",
              "  </tbody>\n",
              "</table>\n",
              "</div>"
            ],
            "text/plain": [
              "                 Avg Arrival Delay\n",
              "DestCityName                      \n",
              "Ogdensburg, NY           32.026211\n",
              "Staunton, VA             30.581259\n",
              "Devils Lake, ND          29.673504\n",
              "Marquette, MI            29.200293\n",
              "Laramie, WY              27.816326\n",
              "Meridian, MS             26.943975\n",
              "Quincy, IL               26.710884\n",
              "Newark, NJ               26.603657\n",
              "Salina, KS               26.084257\n",
              "Ponce, PR                26.070110"
            ]
          },
          "metadata": {
            "tags": []
          },
          "execution_count": 32
        }
      ]
    },
    {
      "cell_type": "code",
      "metadata": {
        "id": "tz-AdaA94hRH",
        "colab": {
          "base_uri": "https://localhost:8080/"
        },
        "outputId": "8b6e1a5d-5586-4805-de58-96f1343dbae5"
      },
      "source": [
        "#Top 10 Most flown tail numbers...\n",
        "print(df[['Tail_Number']].value_counts()[:10])"
      ],
      "execution_count": null,
      "outputs": [
        {
          "output_type": "stream",
          "text": [
            "Tail_Number\n",
            "N485HA         3697\n",
            "N492HA         3608\n",
            "N481HA         3596\n",
            "N480HA         3587\n",
            "N490HA         3485\n",
            "N483HA         3483\n",
            "N489HA         3447\n",
            "N487HA         3299\n",
            "N488HA         3289\n",
            "N478HA         3215\n",
            "dtype: int64\n"
          ],
          "name": "stdout"
        }
      ]
    },
    {
      "cell_type": "code",
      "metadata": {
        "id": "Aeoollqa8aQ0",
        "colab": {
          "base_uri": "https://localhost:8080/"
        },
        "outputId": "000c233e-3f8a-4b65-e432-c92ecc0b21c6"
      },
      "source": [
        "#Top 20 Busiest Routes\n",
        "df.groupby(by=['OriginCityName','DestCityName'])['Year'].count().sort_values(ascending=False)[:20]"
      ],
      "execution_count": null,
      "outputs": [
        {
          "output_type": "execute_result",
          "data": {
            "text/plain": [
              "OriginCityName     DestCityName     \n",
              "Chicago, IL        New York, NY         19876\n",
              "New York, NY       Chicago, IL          19869\n",
              "                   Boston, MA           15806\n",
              "Boston, MA         New York, NY         15749\n",
              "Los Angeles, CA    San Francisco, CA    14630\n",
              "San Francisco, CA  Los Angeles, CA      14614\n",
              "Atlanta, GA        New York, NY         13008\n",
              "New York, NY       Atlanta, GA          13006\n",
              "Los Angeles, CA    New York, NY         12862\n",
              "New York, NY       Los Angeles, CA      12804\n",
              "Atlanta, GA        Chicago, IL          12008\n",
              "Washington, DC     Chicago, IL          11982\n",
              "Chicago, IL        Washington, DC       11978\n",
              "                   Minneapolis, MN      11924\n",
              "Minneapolis, MN    Chicago, IL          11902\n",
              "Chicago, IL        Atlanta, GA          11899\n",
              "Los Angeles, CA    Las Vegas, NV        11722\n",
              "Las Vegas, NV      Los Angeles, CA      11718\n",
              "Atlanta, GA        Washington, DC       11522\n",
              "Washington, DC     Atlanta, GA          11502\n",
              "Name: Year, dtype: int64"
            ]
          },
          "metadata": {
            "tags": []
          },
          "execution_count": 19
        }
      ]
    },
    {
      "cell_type": "code",
      "metadata": {
        "id": "cSjZDc3GVH8P",
        "colab": {
          "base_uri": "https://localhost:8080/"
        },
        "outputId": "fee438d9-2cd0-4259-b22b-3b05fb588571"
      },
      "source": [
        "#Percentage of cancelled flights out of all flights flown\n",
        "\n",
        "print(\"Percentage of cancelled flights : %.2f\" %(100*df['Cancelled'].value_counts()[1]/(df['Cancelled'].value_counts()[1]+df['Cancelled'].value_counts()[0])))"
      ],
      "execution_count": null,
      "outputs": [
        {
          "output_type": "stream",
          "text": [
            "Percentage of cancelled flights : 1.82\n"
          ],
          "name": "stdout"
        }
      ]
    },
    {
      "cell_type": "code",
      "metadata": {
        "id": "MDqY2zJtNaBM",
        "colab": {
          "base_uri": "https://localhost:8080/",
          "height": 510
        },
        "outputId": "f7cd4dce-4e7a-4602-a26a-17a5da058571"
      },
      "source": [
        "#Airline Cancellations record\n",
        "fig=plt.figure(figsize=(10,6))\n",
        "ax = fig.add_axes([0,0,1,1])\n",
        "sns.countplot(ax=ax,x='Reporting_Airline',data=df.loc[df['Cancelled']==1,:],palette='pastel')\n",
        "ax.set_title('Number of Cancellations per Airline')\n",
        "ax.set_xlabel('Airline Code')\n",
        "ax.set_ylabel('Number of flights cancelled');"
      ],
      "execution_count": null,
      "outputs": [
        {
          "output_type": "display_data",
          "data": {
            "image/png": "[encoded data removed]",
            "text/plain": [
              "<Figure size 720x432 with 1 Axes>"
            ]
          },
          "metadata": {
            "tags": [],
            "needs_background": "light"
          }
        }
      ]
    },
    {
      "cell_type": "code",
      "metadata": {
        "id": "TBZuM7rTl5Gt",
        "colab": {
          "base_uri": "https://localhost:8080/",
          "height": 520
        },
        "outputId": "d03a4dda-d595-4169-b97e-1a6575e97712"
      },
      "source": [
        "ax=(df.loc[df['Cancelled']==1,:].groupby(by='Reporting_Airline')['Year'].count()*100 / df.groupby(by='Reporting_Airline')['Year'].count()).plot(kind='bar',figsize=(12,8),cmap='RdGy')\n",
        "ax.set_title(\"Percentage of Cancelled Flights by Reporting Airline\");\n",
        "ax.set_xlabel('Airline Code')\n",
        "ax.set_ylabel('Percentage of flights cancelled');"
      ],
      "execution_count": null,
      "outputs": [
        {
          "output_type": "display_data",
          "data": {
            "image/png": "[encoded data removed]",
            "text/plain": [
              "<Figure size 864x576 with 1 Axes>"
            ]
          },
          "metadata": {
            "tags": [],
            "needs_background": "light"
          }
        }
      ]
    },
    {
      "cell_type": "code",
      "metadata": {
        "id": "RcH8OFCxoiWl",
        "colab": {
          "base_uri": "https://localhost:8080/"
        },
        "outputId": "fffbb4cf-8157-44a0-ed82-4dc9b7e32c1b"
      },
      "source": [
        "#Top 10 busiest airports\n",
        "df[['Origin']].value_counts()[:10]"
      ],
      "execution_count": null,
      "outputs": [
        {
          "output_type": "execute_result",
          "data": {
            "text/plain": [
              "Origin\n",
              "ATL       395009\n",
              "ORD       339606\n",
              "DFW       304344\n",
              "DEN       252026\n",
              "CLT       235496\n",
              "LAX       219952\n",
              "IAH       179688\n",
              "PHX       175328\n",
              "LGA       171665\n",
              "SFO       170918\n",
              "dtype: int64"
            ]
          },
          "metadata": {
            "tags": []
          },
          "execution_count": 22
        }
      ]
    },
    {
      "cell_type": "code",
      "metadata": {
        "id": "ewjpTY1MpvFk"
      },
      "source": [
        "#TODO :: Fix issues with commented code\n",
        "\n",
        "ind=df.groupby(by=['OriginCityName','DestCityName'])['Year'].count().sort_values(ascending=False).index[:10:2]\n",
        "ind1=df.groupby(by=['OriginCityName','DestCityName'])['Year'].count().sort_values(ascending=False).index[1:10:2]\n",
        "\n",
        "#print(ind)\n",
        "# start = ind.get_level_values('OriginCityName')\n",
        "# end = ind.get_level_values('DestCityName')\n",
        "# print(start)\n",
        "# print(end)\n",
        "\n",
        "\n",
        "dat=df.groupby(by=['OriginCityName','DestCityName','Month'])[['Year']].count().reset_index(2).rename({'Year':'Count'},axis=1).loc[lambda df:df.apply(lambda x: x.name in ind,axis=1),:]\n",
        "print(dat)\n",
        "dat1=df.groupby(by=['OriginCityName','DestCityName','Month'])[['Year']].count().reset_index(2).rename({'Year':'Count'},axis=1).loc[lambda df:df.apply(lambda x: x.name in ind1,axis=1),:]\n",
        "# fig, axs = plt.subplots(2, 1, figsize=(20,20))\n",
        "# ax=fig.add_axes([0,0,1,1])\n",
        "# print(axs.shape)\n",
        "# sns.barplot(x=dat.index,y=dat['Count'],hue=dat['Month'],palette='Set3',ax=axs[0])\n",
        "# axs[0].set_title(\"monthly dist of num of flights for top 5 busiest routes\")\n",
        "# sns.barplot(x=dat1.index,y=dat1['Count'],hue=dat1['Month'],palette='Set3',ax=axs[1])\n",
        "\n",
        "\n",
        "\n",
        "# df.loc[0:1000,['OriginCityName','DestCityName']].apply(lambda x:[min(x['OriginCityName'],x['DestCityName']),max(x['OriginCityName'],x['DestCityName'])],axis=1)\n",
        "\n",
        "\n",
        "\n",
        "# # col1 = df.groupby(by='OriginCityName')[['TaxiOut']].mean().sort_values(by='TaxiOut',ascending=False)\n",
        "# # col2 = df.groupby(by='OriginCityName')[['Year']].count().sort_values(by='Year',ascending=False)\n",
        "\n",
        "# col1 = df.groupby(by='OriginCityName')[['TaxiOut']].mean()\n",
        "# col2 = df.groupby(by='OriginCityName')[['Year']].count()\n",
        "# col = pd.concat([col1,col2],axis=1)\n",
        "# col = col.reset_index(drop=True)\n",
        "# sns.scatterplot(data=col/col.max())\n"
      ],
      "execution_count": null,
      "outputs": []
    },
    {
      "cell_type": "code",
      "metadata": {
        "id": "hLWQ5SpyDgFt"
      },
      "source": [
        "#Plotting statistics of delays groups \n",
        "\n",
        "df_delay = df[['DepartureDelayGroups','ArrivalDelayGroups']]\n",
        "def get_interval(x):\n",
        "  #Converts integer in Delay Groups to minute intervals\n",
        "  return (15*x,15*(x+1))\n",
        "\n",
        "plt.figure(figsize=(20,6))\n",
        "ax=sns.countplot(x='DepartureDelayGroups',data=df_delay,palette='pastel')\n",
        "ax.yaxis.set_major_formatter(ticker.EngFormatter())\n",
        "ax.set_xticklabels([str(get_interval(float(x.get_text()))) for x in ax.get_xticklabels()])\n",
        "plt.xlabel(\"Departure Delay Time Block\")\n",
        "plt.ylabel(\"Number of flights\")\n",
        "plt.title(\"Number of flights per Departure Delay Time Block(in minutes)\");\n",
        "\n",
        "plt.figure(figsize=(20,6))\n",
        "ax=sns.countplot(x='ArrivalDelayGroups',data=df_delay,palette='pastel')\n",
        "ax.yaxis.set_major_formatter(ticker.EngFormatter())\n",
        "ax.set_xticklabels([str(get_interval(float(x.get_text()))) for x in ax.get_xticklabels()])\n",
        "plt.xlabel(\"Arrival Delay Time Block\")\n",
        "plt.ylabel(\"Number of flights\")\n",
        "plt.title(\"Number of flights per Arrival Delay Time Block(in minutes)\");"
      ],
      "execution_count": null,
      "outputs": []
    },
    {
      "cell_type": "code",
      "metadata": {
        "id": "p9KwmBTFBaPT",
        "colab": {
          "base_uri": "https://localhost:8080/",
          "height": 580
        },
        "outputId": "a0e9bd02-191c-44fc-cdd4-b8f32c799117"
      },
      "source": [
        "#Airlines with the highest Carrier Delay ....\n",
        "\n",
        "df.loc[df['CarrierDelay'].isna()==False].groupby(by='Reporting_Airline')[['DepDelayMinutes','ArrDelayMinutes','CarrierDelay']].mean().sort_values(by='CarrierDelay',ascending=False).rename(dict(zip(['DepDelayMinutes',\t'ArrDelayMinutes',\t'CarrierDelay'],['Departure Delay','Arrival Delay','Carrier Delay'])),axis=1)"
      ],
      "execution_count": null,
      "outputs": [
        {
          "output_type": "execute_result",
          "data": {
            "text/html": [
              "<div>\n",
              "<style scoped>\n",
              "    .dataframe tbody tr th:only-of-type {\n",
              "        vertical-align: middle;\n",
              "    }\n",
              "\n",
              "    .dataframe tbody tr th {\n",
              "        vertical-align: top;\n",
              "    }\n",
              "\n",
              "    .dataframe thead th {\n",
              "        text-align: right;\n",
              "    }\n",
              "</style>\n",
              "<table border=\"1\" class=\"dataframe\">\n",
              "  <thead>\n",
              "    <tr style=\"text-align: right;\">\n",
              "      <th></th>\n",
              "      <th>Departure Delay</th>\n",
              "      <th>Arrival Delay</th>\n",
              "      <th>Carrier Delay</th>\n",
              "    </tr>\n",
              "    <tr>\n",
              "      <th>Reporting_Airline</th>\n",
              "      <th></th>\n",
              "      <th></th>\n",
              "      <th></th>\n",
              "    </tr>\n",
              "  </thead>\n",
              "  <tbody>\n",
              "    <tr>\n",
              "      <th>OO</th>\n",
              "      <td>80.929611</td>\n",
              "      <td>84.621803</td>\n",
              "      <td>30.036854</td>\n",
              "    </tr>\n",
              "    <tr>\n",
              "      <th>B6</th>\n",
              "      <td>79.007133</td>\n",
              "      <td>81.274399</td>\n",
              "      <td>27.614935</td>\n",
              "    </tr>\n",
              "    <tr>\n",
              "      <th>YV</th>\n",
              "      <td>77.544250</td>\n",
              "      <td>80.978493</td>\n",
              "      <td>27.319139</td>\n",
              "    </tr>\n",
              "    <tr>\n",
              "      <th>EV</th>\n",
              "      <td>80.461426</td>\n",
              "      <td>87.124336</td>\n",
              "      <td>26.886286</td>\n",
              "    </tr>\n",
              "    <tr>\n",
              "      <th>HA</th>\n",
              "      <td>32.670460</td>\n",
              "      <td>40.254776</td>\n",
              "      <td>25.873865</td>\n",
              "    </tr>\n",
              "    <tr>\n",
              "      <th>G4</th>\n",
              "      <td>64.683578</td>\n",
              "      <td>69.900932</td>\n",
              "      <td>25.243767</td>\n",
              "    </tr>\n",
              "    <tr>\n",
              "      <th>DL</th>\n",
              "      <td>63.567329</td>\n",
              "      <td>68.335899</td>\n",
              "      <td>24.438005</td>\n",
              "    </tr>\n",
              "    <tr>\n",
              "      <th>AA</th>\n",
              "      <td>62.185986</td>\n",
              "      <td>67.128937</td>\n",
              "      <td>22.366356</td>\n",
              "    </tr>\n",
              "    <tr>\n",
              "      <th>9E</th>\n",
              "      <td>75.338348</td>\n",
              "      <td>79.479523</td>\n",
              "      <td>20.529898</td>\n",
              "    </tr>\n",
              "    <tr>\n",
              "      <th>F9</th>\n",
              "      <td>66.170074</td>\n",
              "      <td>68.439377</td>\n",
              "      <td>18.132425</td>\n",
              "    </tr>\n",
              "    <tr>\n",
              "      <th>OH</th>\n",
              "      <td>65.520393</td>\n",
              "      <td>68.389610</td>\n",
              "      <td>17.920721</td>\n",
              "    </tr>\n",
              "    <tr>\n",
              "      <th>WN</th>\n",
              "      <td>52.506695</td>\n",
              "      <td>51.893162</td>\n",
              "      <td>17.608948</td>\n",
              "    </tr>\n",
              "    <tr>\n",
              "      <th>UA</th>\n",
              "      <td>70.192474</td>\n",
              "      <td>75.625313</td>\n",
              "      <td>16.177855</td>\n",
              "    </tr>\n",
              "    <tr>\n",
              "      <th>NK</th>\n",
              "      <td>67.127213</td>\n",
              "      <td>69.888084</td>\n",
              "      <td>15.310907</td>\n",
              "    </tr>\n",
              "    <tr>\n",
              "      <th>MQ</th>\n",
              "      <td>56.801861</td>\n",
              "      <td>65.052841</td>\n",
              "      <td>15.142703</td>\n",
              "    </tr>\n",
              "    <tr>\n",
              "      <th>AS</th>\n",
              "      <td>44.579952</td>\n",
              "      <td>51.981182</td>\n",
              "      <td>14.104654</td>\n",
              "    </tr>\n",
              "    <tr>\n",
              "      <th>YX</th>\n",
              "      <td>61.147736</td>\n",
              "      <td>69.616348</td>\n",
              "      <td>14.052395</td>\n",
              "    </tr>\n",
              "  </tbody>\n",
              "</table>\n",
              "</div>"
            ],
            "text/plain": [
              "                   Departure Delay  Arrival Delay  Carrier Delay\n",
              "Reporting_Airline                                               \n",
              "OO                       80.929611      84.621803      30.036854\n",
              "B6                       79.007133      81.274399      27.614935\n",
              "YV                       77.544250      80.978493      27.319139\n",
              "EV                       80.461426      87.124336      26.886286\n",
              "HA                       32.670460      40.254776      25.873865\n",
              "G4                       64.683578      69.900932      25.243767\n",
              "DL                       63.567329      68.335899      24.438005\n",
              "AA                       62.185986      67.128937      22.366356\n",
              "9E                       75.338348      79.479523      20.529898\n",
              "F9                       66.170074      68.439377      18.132425\n",
              "OH                       65.520393      68.389610      17.920721\n",
              "WN                       52.506695      51.893162      17.608948\n",
              "UA                       70.192474      75.625313      16.177855\n",
              "NK                       67.127213      69.888084      15.310907\n",
              "MQ                       56.801861      65.052841      15.142703\n",
              "AS                       44.579952      51.981182      14.104654\n",
              "YX                       61.147736      69.616348      14.052395"
            ]
          },
          "metadata": {
            "tags": []
          },
          "execution_count": 35
        }
      ]
    },
    {
      "cell_type": "code",
      "metadata": {
        "id": "L7oK9GZ8N1sX"
      },
      "source": [
        "#Time Based Analysis"
      ],
      "execution_count": null,
      "outputs": []
    },
    {
      "cell_type": "code",
      "metadata": {
        "id": "c6KiFJQM05ux",
        "colab": {
          "base_uri": "https://localhost:8080/"
        },
        "outputId": "38bba697-ec38-4145-b88f-e018ef5d6fc0"
      },
      "source": [
        "#Number of flights departing at a specific time sorted.... (shows best time to catch a flight)\n",
        "df['CRSDepTime'].value_counts()[:30]"
      ],
      "execution_count": null,
      "outputs": [
        {
          "output_type": "execute_result",
          "data": {
            "text/plain": [
              "600     158369\n",
              "700     104555\n",
              "800      61397\n",
              "830      46639\n",
              "630      45992\n",
              "900      45422\n",
              "1000     45166\n",
              "730      44133\n",
              "615      39302\n",
              "1200     38852\n",
              "1100     37473\n",
              "1300     37417\n",
              "1700     36188\n",
              "1500     34950\n",
              "1400     34482\n",
              "1800     33439\n",
              "1600     32671\n",
              "1730     32625\n",
              "1130     32314\n",
              "1230     31992\n",
              "1830     31304\n",
              "715      30483\n",
              "815      30253\n",
              "820      30223\n",
              "930      30058\n",
              "610      29931\n",
              "1630     29393\n",
              "605      29285\n",
              "845      29247\n",
              "710      29118\n",
              "Name: CRSDepTime, dtype: int64"
            ]
          },
          "metadata": {
            "tags": []
          },
          "execution_count": 37
        }
      ]
    },
    {
      "cell_type": "code",
      "metadata": {
        "id": "GJ1MI2Qz1BqE",
        "colab": {
          "base_uri": "https://localhost:8080/",
          "height": 1000
        },
        "outputId": "977fa5c0-b191-48ef-d1c3-721c6efacb93"
      },
      "source": [
        "#Plotting Number of Flights per time slot\n",
        "\n",
        "def to_24hr(x):\n",
        "  if x < 1000:\n",
        "    return \"0\" + str(int(x/100)) + \":00\"\n",
        "  return str(int(x/100)) + \":00\"\n",
        "\n",
        "\n",
        "fig=plt.figure(figsize=(16,8))\n",
        "ax = fig.add_axes([0,0,1,1])\n",
        "plt.hist(df['CRSDepTime'].values,bins=24,range=(0,2400),linewidth=2,edgecolor='gray',rwidth=0.8,color='springgreen')\n",
        "ax.set_xticks(np.arange(0,2500,100))\n",
        "ax.set_xticklabels([to_24hr(int(x)) for x in ax.get_xticks()])\n",
        "ax.set_title(\"Number of Flights departing per time slot\")\n",
        "ax.set_ylabel(\"Number of Flights\")\n",
        "ax.set_xlabel(\"Time Slot\");\n",
        "\n",
        "\n",
        "fig=plt.figure(figsize=(16,8))\n",
        "ax = fig.add_axes([0,0,1,1])\n",
        "plt.hist(df['CRSArrTime'].values,bins=24,range=(0,2400),linewidth=2,edgecolor='gray',rwidth=0.8,color='peachpuff')\n",
        "ax.set_xticks(np.arange(0,2500,100))\n",
        "ax.set_xticklabels([to_24hr(int(x)) for x in ax.get_xticks()])\n",
        "ax.set_title(\"Number of Flights arriving per time slot\")\n",
        "ax.set_ylabel(\"Number of Flights\")\n",
        "ax.set_xlabel(\"Time Slot\");"
      ],
      "execution_count": null,
      "outputs": [
        {
          "output_type": "display_data",
          "data": {
            "image/png": "[encoded data removed]",
            "text/plain": [
              "<Figure size 1152x576 with 1 Axes>"
            ]
          },
          "metadata": {
            "tags": [],
            "needs_background": "light"
          }
        },
        {
          "output_type": "display_data",
          "data": {
            "image/png": "[encoded data removed]",
            "text/plain": [
              "<Figure size 1152x576 with 1 Axes>"
            ]
          },
          "metadata": {
            "tags": [],
            "needs_background": "light"
          }
        }
      ]
    },
    {
      "cell_type": "code",
      "metadata": {
        "id": "TtY50OpsQXdt"
      },
      "source": [
        "#Trying to find amount of traffic near a tail number to get correlation between delays and taxi time....\n",
        "A = df.groupby(['FlightDate','Origin','DepTimeBlk'])[['Year']].count()\n",
        "B = df.groupby(['FlightDate','Dest','ArrTimeBlk'])[['Year']].count()\n",
        "\n",
        "\n",
        "Airport_Traffic = pd.concat([A,B],axis=1,ignore_index=True)\n",
        "Airport_Traffic.index.set_names(['Date','Airport','TimeBlk'],inplace=True)\n",
        "Airport_Traffic.fillna(0,inplace=True)\n",
        "Airport_Traffic['Count'] = Airport_Traffic.loc[:,0] + Airport_Traffic.loc[:,1]\n",
        "Airport_Traffic.drop([0,1],axis=1,inplace=True)\n",
        "#print(Airport_Traffic.sort_values(by='Count',ascending=False).head(20))\n",
        "\n",
        "df = pd.merge(df,Airport_Traffic,left_on=['FlightDate','Origin','DepTimeBlk'],right_index=True).rename({'Count':'TrafficinDepBlk'},axis=1)\n",
        "df = pd.merge(df,Airport_Traffic,left_on=['FlightDate','Dest','ArrTimeBlk'],right_index=True).rename({'Count':'TrafficinArrBlk'},axis=1)\n",
        "\n",
        "df.reset_index(inplace=True,drop=True)\n",
        "\n",
        "print(df[['FlightDate','Reporting_Airline','Tail_Number','Origin','DepTimeBlk','TrafficinDepBlk','DepDelay','TaxiOut']])\n",
        "\n",
        "print(df[['FlightDate','Reporting_Airline','Tail_Number','Dest','ArrTimeBlk', 'TrafficinArrBlk','ArrDelay','TaxiIn']])"
      ],
      "execution_count": null,
      "outputs": []
    }
  ]
}