{
  "nbformat": 4,
  "nbformat_minor": 0,
  "metadata": {
    "colab": {
      "name": "AirplaneDelayAnalysis",
      "provenance": [],
      "collapsed_sections": [],
      "authorship_tag": "ABX9TyP8kmqxciC1g05VwjgpdtSS",
      "include_colab_link": true
    },
    "kernelspec": {
      "name": "python3",
      "display_name": "Python 3"
    }
  },
  "cells": [
    {
      "cell_type": "markdown",
      "metadata": {
        "id": "view-in-github",
        "colab_type": "text"
      },
      "source": [
        "<a href=\"https://colab.research.google.com/github/vijaynadimpalli/USAirplaneDataAnalysis/blob/main/AirplaneDelayAnalysis.ipynb\" target=\"_parent\"><img src=\"https://colab.research.google.com/assets/colab-badge.svg\" alt=\"Open In Colab\"/></a>"
      ]
    },
    {
      "cell_type": "code",
      "metadata": {
        "id": "vWAkBy5P2GJz",
        "outputId": "e3bec0fc-7aa7-4011-83e5-d385de3232ea",
        "colab": {
          "base_uri": "https://localhost:8080/",
          "height": 303
        }
      },
      "source": [
        "!pip install pandas==1.1.1"
      ],
      "execution_count": 1,
      "outputs": [
        {
          "output_type": "stream",
          "text": [
            "Collecting pandas==1.1.1\n",
            "\u001b[?25l  Downloading https://files.pythonhosted.org/packages/a1/c6/9ac4ae44c24c787a1738e5fb34dd987ada6533de5905a041aa6d5bea4553/pandas-1.1.1-cp36-cp36m-manylinux1_x86_64.whl (10.5MB)\n",
            "\u001b[K     |████████████████████████████████| 10.5MB 2.7MB/s \n",
            "\u001b[?25hRequirement already satisfied: python-dateutil>=2.7.3 in /usr/local/lib/python3.6/dist-packages (from pandas==1.1.1) (2.8.1)\n",
            "Requirement already satisfied: pytz>=2017.2 in /usr/local/lib/python3.6/dist-packages (from pandas==1.1.1) (2018.9)\n",
            "Requirement already satisfied: numpy>=1.15.4 in /usr/local/lib/python3.6/dist-packages (from pandas==1.1.1) (1.18.5)\n",
            "Requirement already satisfied: six>=1.5 in /usr/local/lib/python3.6/dist-packages (from python-dateutil>=2.7.3->pandas==1.1.1) (1.15.0)\n",
            "Installing collected packages: pandas\n",
            "  Found existing installation: pandas 1.1.4\n",
            "    Uninstalling pandas-1.1.4:\n",
            "      Successfully uninstalled pandas-1.1.4\n",
            "Successfully installed pandas-1.1.1\n"
          ],
          "name": "stdout"
        },
        {
          "output_type": "display_data",
          "data": {
            "application/vnd.colab-display-data+json": {
              "pip_warning": {
                "packages": [
                  "pandas"
                ]
              }
            }
          },
          "metadata": {
            "tags": []
          }
        }
      ]
    },
    {
      "cell_type": "code",
      "metadata": {
        "id": "A_9jNjOHZwI5"
      },
      "source": [
        "# #kaggle DataSet\n",
        " \n",
        "# !mkdir ~/.kaggle\n",
        "# ! cp /content/drive/'My Drive'/NEW_DATASCIENCE_PROJECTS/kaggle.json ~/.kaggle/\n",
        "# ! chmod 600 ~/.kaggle/kaggle.json\n",
        " \n",
        "# !kaggle datasets download -d tylerx/flights-and-airports-data\n",
        " \n",
        "# from zipfile import ZipFile\n",
        " \n",
        "# ZipFile('/content/flights-and-airports-data.zip').extractall()\n",
        " \n",
        "# import pandas as pd\n",
        "# import numpy as np\n",
        "# import seaborn as sns\n",
        " \n",
        "# df = pd.read_csv('flights.csv')"
      ],
      "execution_count": 2,
      "outputs": []
    },
    {
      "cell_type": "markdown",
      "metadata": {
        "id": "mvq0WigK6U1f"
      },
      "source": [
        "Downloadidng Data frm transstats dataset...\n",
        " https://www.transtats.bts.gov/Tables.asp?DB_ID=120&DB_Name=Airline%20On-Time%20Performance%20Data&DB_Short_Name=On-Time\n",
        "\n",
        "Download link :: https://transtats.bts.gov/PREZIP/On_Time_Reporting_Carrier_On_Time_Performance_1987_present_2000_2.zip"
      ]
    },
    {
      "cell_type": "code",
      "metadata": {
        "id": "AzP4BMHTCtF0",
        "outputId": "626c00e6-ef68-483e-d5ff-700ba6c0ca7d",
        "colab": {
          "base_uri": "https://localhost:8080/"
        }
      },
      "source": [
        "!pip install wget"
      ],
      "execution_count": 3,
      "outputs": [
        {
          "output_type": "stream",
          "text": [
            "Collecting wget\n",
            "  Downloading https://files.pythonhosted.org/packages/47/6a/62e288da7bcda82b935ff0c6cfe542970f04e29c756b0e147251b2fb251f/wget-3.2.zip\n",
            "Building wheels for collected packages: wget\n",
            "  Building wheel for wget (setup.py) ... \u001b[?25l\u001b[?25hdone\n",
            "  Created wheel for wget: filename=wget-3.2-cp36-none-any.whl size=9682 sha256=fcc28cba980c5c3e19faf546a9c2ce9d68ad829bf50e7777b97276e6f7cba94d\n",
            "  Stored in directory: /root/.cache/pip/wheels/40/15/30/7d8f7cea2902b4db79e3fea550d7d7b85ecb27ef992b618f3f\n",
            "Successfully built wget\n",
            "Installing collected packages: wget\n",
            "Successfully installed wget-3.2\n"
          ],
          "name": "stdout"
        }
      ]
    },
    {
      "cell_type": "markdown",
      "metadata": {
        "id": "B_BdT7DUVgJm"
      },
      "source": [
        "Memory Optimization is extremely important when dealing with big data....\n",
        "https://www.dataquest.io/blog/pandas-big-data/\n",
        "Great Article which explains in detail the memory optimization process....\n",
        "\n",
        "Also for big data Flask can be used to efficienty read huge amounts of data..\n",
        "Research on this...."
      ]
    },
    {
      "cell_type": "markdown",
      "metadata": {
        "id": "DL_oQkM2PosH"
      },
      "source": [
        "Adding dtypes which decrease the size dramatically ... \n",
        "For reference :: https://medium.com/@vincentteyssier/optimizing-the-size-of-a-pandas-dataframe-for-low-memory-environment-5f07db3d72e"
      ]
    },
    {
      "cell_type": "markdown",
      "metadata": {
        "id": "GCDfQbrdSxJQ"
      },
      "source": [
        "Below method is a streamlined datatype converter post read_csv to get the best dtypes.These dtypes are manually added to read_csv later.\n",
        "The conversion process below is a one-time thing.\n",
        " For reference :: https://medium.com/@vincentteyssier/optimizing-the-size-of-a-pandas-dataframe-for-low-memory-environment-5f07db3d72e"
      ]
    },
    {
      "cell_type": "code",
      "metadata": {
        "id": "fhpmHuWOOfML"
      },
      "source": [
        "import seaborn as sns\n",
        "import matplotlib.pyplot as plt\n",
        "import matplotlib\n",
        "import numpy as np"
      ],
      "execution_count": 4,
      "outputs": []
    },
    {
      "cell_type": "code",
      "metadata": {
        "id": "BKore5YBQq0X"
      },
      "source": [
        "# def floatconversion(data):\n",
        "#  floatcol=[X for X in data.dtypes.index if data.dtypes[X]=='float64']\n",
        "#  for col in floatcol:\n",
        "#   data.loc[:,col]=pd.to_numeric(data.loc[:,col],downcast='float')\n",
        "#  return data \n",
        " \n",
        " \n",
        "# def intconversion(data):\n",
        "#  intcol=[X for X in data.dtypes.index if data.dtypes[X]=='int64']\n",
        "#  for col in intcol:\n",
        "#   data.loc[:,col]=pd.to_numeric(data.loc[:,col],downcast='integer')\n",
        "#  return data \n",
        " \n",
        "# def catconversion(data):\n",
        "#  catcol=[X for X in data.dtypes.index if data.dtypes[X]=='object']\n",
        "#  for col in catcol:\n",
        "#   num_unique_values = len(data[col].unique())\n",
        "#   num_total_values = len(data[col])\n",
        "#   if num_unique_values / num_total_values < 0.5:\n",
        "#     data.loc[:,col] = data[col].astype('category')\n",
        "#   else:\n",
        "#     data.loc[:,col] = data[col]\n",
        "#  return data \n",
        " \n",
        " \n",
        "# def dtypeconversion(data):\n",
        "#  floatconversion(data)\n",
        "#  intconversion(data)\n",
        "#  catconversion(data)\n",
        "#  return data \n",
        " \n",
        "# ##test steps\n",
        "# df=dtypeconversion(df) #df is your dataframe which needs dtype conversion.\n",
        "\n",
        "# create the dict of index names and optimized datatypes\n",
        "# dtypes = df.dtypes\n",
        "# colnames = dtypes.index\n",
        "# types = [i.name for i in dtypes.values]\n",
        "# column_types = dict(zip(colnames, types))"
      ],
      "execution_count": 5,
      "outputs": []
    },
    {
      "cell_type": "code",
      "metadata": {
        "id": "sXA0n8_e0-8D",
        "outputId": "5b83f795-7879-46b8-beb9-1f074f8bf3c8",
        "colab": {
          "base_uri": "https://localhost:8080/"
        }
      },
      "source": [
        "file_prefix = \"On_Time_Reporting_Carrier_On_Time_Performance_1987_present_\"\n",
        "csv_prefix = \"On_Time_Reporting_Carrier_On_Time_Performance_(1987_present)_\"\n",
        "\n",
        "remove_cols = ['DOT_ID_Reporting_Airline',\n",
        "       'IATA_CODE_Reporting_Airline','Flight_Number_Reporting_Airline','OriginAirportID',\n",
        "       'OriginAirportSeqID', 'OriginCityMarketID','OriginStateFips','OriginWac',\n",
        "       'DestAirportID', 'DestAirportSeqID', 'DestCityMarketID', \n",
        "       'DestStateFips', 'DestWac','FirstDepTime', 'TotalAddGTime',\n",
        "       'LongestAddGTime','Flights']\n",
        "#List of cols to be Removed, which i felt were unnecessary for now....\n",
        "\n",
        "\n",
        "#Pandas does not support NaN values on int64 or bool(because NaN is a float), so you need to use Int64 or float64 or boolean\n",
        "#also putting every column as float16 is causing white bars in seaborn plots so not recommended..\n",
        "#pandas convert_dtypes() automatically converts to nullable dtypes. i.e floats with NaN will be converted to Int  \n",
        "#but seaborn does not recognize Int64 datatype for now...so convert_dtypes is useless\n",
        "#https://github.com/mwaskom/seaborn/issues/1971\n",
        "\n",
        "\n",
        "cols_for_dtype = ['Year', 'Quarter', 'Month', 'DayofMonth', 'DayOfWeek',\n",
        "       'Reporting_Airline', 'Tail_Number', 'Origin', 'OriginCityName',\n",
        "       'OriginState', 'OriginStateName', 'Dest', 'DestCityName', 'DestState',\n",
        "       'DestStateName', 'CRSDepTime', 'DepTime', 'DepDelay', 'DepDelayMinutes',\n",
        "       'DepDel15', 'DepartureDelayGroups', 'DepTimeBlk', 'TaxiOut',\n",
        "       'WheelsOff', 'WheelsOn', 'TaxiIn', 'CRSArrTime', 'ArrTime', 'ArrDelay',\n",
        "       'ArrDelayMinutes', 'ArrDel15', 'ArrivalDelayGroups', 'ArrTimeBlk',\n",
        "       'Cancelled', 'CancellationCode', 'Diverted', 'CRSElapsedTime',\n",
        "       'ActualElapsedTime', 'AirTime', 'Distance', 'DistanceGroup',\n",
        "       'CarrierDelay', 'WeatherDelay', 'NASDelay', 'SecurityDelay',\n",
        "       'LateAircraftDelay']\n",
        " #list of cols for type change(all columns including object cols)\n",
        "\n",
        " #the dtype values below were chosen by running the dtypeconversion code commented out above\n",
        "col_dtype=['int16', 'int8', 'int8', 'int8', 'int8', 'category',\n",
        " 'category','category','category','category','category','category','category',\n",
        " 'category','category','int16','float32','float32','float32','float32','float32',\n",
        " 'category','float32','float32','float32','float32','int16','float32','float32',\n",
        " 'float32','float32','float32','category','float32','category','float32','float32',\n",
        " 'float32','float32','float32','int8','float32','float32','float32','float32',\n",
        " 'float32']\n",
        "\n",
        "\n",
        "\n",
        "type_dict = dict(zip(cols_for_dtype,col_dtype))\n",
        "\n",
        "print(len(cols_for_dtype))\n",
        "print(len(col_dtype))"
      ],
      "execution_count": 6,
      "outputs": [
        {
          "output_type": "stream",
          "text": [
            "46\n",
            "46\n"
          ],
          "name": "stdout"
        }
      ]
    },
    {
      "cell_type": "code",
      "metadata": {
        "id": "nhyz_DIB6Y8-",
        "outputId": "24559a83-c454-48e8-e8d5-700ea9aebffb",
        "colab": {
          "base_uri": "https://localhost:8080/"
        }
      },
      "source": [
        "import wget\n",
        "from zipfile import ZipFile\n",
        "import os\n",
        "from os import path\n",
        "import pandas as pd\n",
        "\n",
        "\n",
        "def col_checker(x):\n",
        "  if x in remove_cols:\n",
        "    #print('Removed column : '+ x)\n",
        "    return False\n",
        "  if x=='Diverted':\n",
        "    return True\n",
        "  if x[0:3]=='Div':\n",
        "    return False  \n",
        "  return True\n",
        "\n",
        "\n",
        "def download_extract(year_month):\n",
        "  token = file_prefix  + year_month\n",
        "  if os.path.exists(csv_prefix + year_month + \".csv\"):\n",
        "    print(\"File Already Exists!\")\n",
        "    return\n",
        "  wget.download(\"https://transtats.bts.gov/PREZIP/\"+token+\".zip\")\n",
        "  ZipFile(token + \".zip\").extractall()\n",
        "  os.remove(token + \".zip\")\n",
        "  os.remove(\"readme.html\")\n",
        "\n",
        "\n",
        "def run_all_downloads():\n",
        "  all_files = []\n",
        "  year = 2019\n",
        "  for month in range(1,13):\n",
        "    year_month = str(year)+\"_\"+str(month)\n",
        "    download_extract(year_month)\n",
        "    all_files.append(csv_prefix + year_month + \".csv\")\n",
        "  return all_files\n",
        "\n",
        "\n",
        "files = run_all_downloads()\n",
        "#takes 15 minutes to download 1 year of data\n",
        "\n",
        "df = pd.concat([pd.read_csv(x,usecols=col_checker,dtype=type_dict,parse_dates=['FlightDate']) for x in files],axis=0)\n",
        "print(\"DONE*************\")\n",
        "#df['DepartureDelayGroups'] = df['DepartureDelayGroups'].apply(lambda x : (15*x,15*(x+1))).astype('category')\n",
        "print(\"DONE*************\")\n",
        "#df['ArrivalDelayGroups'] = df['ArrivalDelayGroups'].apply(lambda x : (15*x,15*(x+1))).astype('category')\n",
        "df.reset_index(inplace=True,drop=True)\n",
        "df.dropna(how='all', axis='columns',inplace=True) # removing Unnamed: 109 columns which has all NaN values\n",
        "\n",
        "#df.to_csv(\"2019_complete.csv\",index=False)\n",
        "#takes 5 minutes to concat and save as csv file.. 2.1GB final size"
      ],
      "execution_count": 7,
      "outputs": [
        {
          "output_type": "stream",
          "text": [
            "DONE*************\n",
            "DONE*************\n"
          ],
          "name": "stdout"
        }
      ]
    },
    {
      "cell_type": "code",
      "metadata": {
        "id": "bQ71uaSVtnoz",
        "outputId": "1cc86e00-c400-449d-f050-a2f719dad6e5",
        "colab": {
          "base_uri": "https://localhost:8080/"
        }
      },
      "source": [
        "#Looking at the memory consumption of the dataset...\n",
        "df.info(memory_usage='deep')"
      ],
      "execution_count": 8,
      "outputs": [
        {
          "output_type": "stream",
          "text": [
            "<class 'pandas.core.frame.DataFrame'>\n",
            "RangeIndex: 7422037 entries, 0 to 7422036\n",
            "Data columns (total 47 columns):\n",
            " #   Column                Dtype         \n",
            "---  ------                -----         \n",
            " 0   Year                  int16         \n",
            " 1   Quarter               int8          \n",
            " 2   Month                 int8          \n",
            " 3   DayofMonth            int8          \n",
            " 4   DayOfWeek             int8          \n",
            " 5   FlightDate            datetime64[ns]\n",
            " 6   Reporting_Airline     category      \n",
            " 7   Tail_Number           object        \n",
            " 8   Origin                object        \n",
            " 9   OriginCityName        object        \n",
            " 10  OriginState           category      \n",
            " 11  OriginStateName       category      \n",
            " 12  Dest                  object        \n",
            " 13  DestCityName          object        \n",
            " 14  DestState             category      \n",
            " 15  DestStateName         category      \n",
            " 16  CRSDepTime            int16         \n",
            " 17  DepTime               float32       \n",
            " 18  DepDelay              float32       \n",
            " 19  DepDelayMinutes       float32       \n",
            " 20  DepDel15              float32       \n",
            " 21  DepartureDelayGroups  float32       \n",
            " 22  DepTimeBlk            category      \n",
            " 23  TaxiOut               float32       \n",
            " 24  WheelsOff             float32       \n",
            " 25  WheelsOn              float32       \n",
            " 26  TaxiIn                float32       \n",
            " 27  CRSArrTime            int16         \n",
            " 28  ArrTime               float32       \n",
            " 29  ArrDelay              float32       \n",
            " 30  ArrDelayMinutes       float32       \n",
            " 31  ArrDel15              float32       \n",
            " 32  ArrivalDelayGroups    float32       \n",
            " 33  ArrTimeBlk            category      \n",
            " 34  Cancelled             float32       \n",
            " 35  CancellationCode      object        \n",
            " 36  Diverted              float32       \n",
            " 37  CRSElapsedTime        float32       \n",
            " 38  ActualElapsedTime     float32       \n",
            " 39  AirTime               float32       \n",
            " 40  Distance              float32       \n",
            " 41  DistanceGroup         int8          \n",
            " 42  CarrierDelay          float32       \n",
            " 43  WeatherDelay          float32       \n",
            " 44  NASDelay              float32       \n",
            " 45  SecurityDelay         float32       \n",
            " 46  LateAircraftDelay     float32       \n",
            "dtypes: category(7), datetime64[ns](1), float32(25), int16(3), int8(5), object(6)\n",
            "memory usage: 3.3 GB\n"
          ],
          "name": "stdout"
        }
      ]
    },
    {
      "cell_type": "code",
      "metadata": {
        "id": "GgOu4xO93_Q4",
        "outputId": "423ad7a5-5dd7-4bf0-9330-cdfc79f5fdea",
        "colab": {
          "base_uri": "https://localhost:8080/"
        }
      },
      "source": [
        "#Amount of null values present in the data....\n",
        "df.isna().sum()"
      ],
      "execution_count": 9,
      "outputs": [
        {
          "output_type": "execute_result",
          "data": {
            "text/plain": [
              "Year                          0\n",
              "Quarter                       0\n",
              "Month                         0\n",
              "DayofMonth                    0\n",
              "DayOfWeek                     0\n",
              "FlightDate                    0\n",
              "Reporting_Airline             0\n",
              "Tail_Number               17837\n",
              "Origin                        0\n",
              "OriginCityName                0\n",
              "OriginState                   0\n",
              "OriginStateName               0\n",
              "Dest                          0\n",
              "DestCityName                  0\n",
              "DestState                     0\n",
              "DestStateName                 0\n",
              "CRSDepTime                    0\n",
              "DepTime                  130086\n",
              "DepDelay                 130110\n",
              "DepDelayMinutes          130110\n",
              "DepDel15                 130110\n",
              "DepartureDelayGroups     130110\n",
              "DepTimeBlk                    0\n",
              "TaxiOut                  133977\n",
              "WheelsOff                133977\n",
              "WheelsOn                 137647\n",
              "TaxiIn                   137647\n",
              "CRSArrTime                    0\n",
              "ArrTime                  137646\n",
              "ArrDelay                 153805\n",
              "ArrDelayMinutes          153805\n",
              "ArrDel15                 153805\n",
              "ArrivalDelayGroups       153805\n",
              "ArrTimeBlk                    0\n",
              "Cancelled                     0\n",
              "CancellationCode        7287112\n",
              "Diverted                      0\n",
              "CRSElapsedTime              135\n",
              "ActualElapsedTime        153805\n",
              "AirTime                  153805\n",
              "Distance                      0\n",
              "DistanceGroup                 0\n",
              "CarrierDelay            6032784\n",
              "WeatherDelay            6032784\n",
              "NASDelay                6032784\n",
              "SecurityDelay           6032784\n",
              "LateAircraftDelay       6032784\n",
              "dtype: int64"
            ]
          },
          "metadata": {
            "tags": []
          },
          "execution_count": 9
        }
      ]
    },
    {
      "cell_type": "code",
      "metadata": {
        "id": "BMwN1M1o3GpL"
      },
      "source": [
        "# import numpy as np\n",
        "# print(np.finfo('float16'))\n",
        "# print(np.iinfo('int16'))"
      ],
      "execution_count": 10,
      "outputs": []
    },
    {
      "cell_type": "code",
      "metadata": {
        "id": "n1V8Om316-1t",
        "outputId": "8e9e0ac4-c123-418a-8b66-a946725059bb",
        "colab": {
          "base_uri": "https://localhost:8080/",
          "height": 566
        }
      },
      "source": [
        "#Looking at the most popular airlines....\n",
        "from matplotlib import ticker\n",
        "\n",
        "plt.figure(figsize=(12,8))\n",
        "ax=sns.countplot(df['Reporting_Airline'],palette='rocket',order=df['Reporting_Airline'].value_counts().index)\n",
        "ax.yaxis.set_major_formatter(ticker.EngFormatter())\n",
        "plt.xlabel(\"Airline Code\")\n",
        "plt.ylabel(\"Number of flights\")\n",
        "plt.title(\"Number of flights per Airline in 2019\");"
      ],
      "execution_count": 38,
      "outputs": [
        {
          "output_type": "stream",
          "text": [
            "/usr/local/lib/python3.6/dist-packages/seaborn/_decorators.py:43: FutureWarning: Pass the following variable as a keyword arg: x. From version 0.12, the only valid positional argument will be `data`, and passing other arguments without an explicit keyword will result in an error or misinterpretation.\n",
            "  FutureWarning\n"
          ],
          "name": "stderr"
        },
        {
          "output_type": "display_data",
          "data": {
            "image/png": "[encoded data removed]",
            "text/plain": [
              "<Figure size 864x576 with 1 Axes>"
            ]
          },
          "metadata": {
            "tags": [],
            "needs_background": "light"
          }
        }
      ]
    },
    {
      "cell_type": "code",
      "metadata": {
        "id": "OKVr_vSVO3Ta",
        "outputId": "6c2ba77c-8599-4fc6-ff6d-f3f4cc45c308",
        "colab": {
          "base_uri": "https://localhost:8080/",
          "height": 566
        }
      },
      "source": [
        "plt.figure(figsize=(12,8))\n",
        "ax=sns.countplot(df['DayOfWeek'],palette='pastel')\n",
        "ax.yaxis.set_major_formatter(ticker.EngFormatter())\n",
        "plt.xlabel(\"Day of the week\")\n",
        "plt.ylabel(\"Number of flights\")\n",
        "plt.title(\"Number of flights per Day\");"
      ],
      "execution_count": 40,
      "outputs": [
        {
          "output_type": "stream",
          "text": [
            "/usr/local/lib/python3.6/dist-packages/seaborn/_decorators.py:43: FutureWarning: Pass the following variable as a keyword arg: x. From version 0.12, the only valid positional argument will be `data`, and passing other arguments without an explicit keyword will result in an error or misinterpretation.\n",
            "  FutureWarning\n"
          ],
          "name": "stderr"
        },
        {
          "output_type": "display_data",
          "data": {
            "image/png": "[encoded data removed]",
            "text/plain": [
              "<Figure size 864x576 with 1 Axes>"
            ]
          },
          "metadata": {
            "tags": [],
            "needs_background": "light"
          }
        }
      ]
    },
    {
      "cell_type": "code",
      "metadata": {
        "id": "uGrYg8NAPF1_",
        "outputId": "4586aac6-3d23-4bc5-a427-6f471d35c3c7",
        "colab": {
          "base_uri": "https://localhost:8080/"
        }
      },
      "source": [
        "#States in US with highest number of flight departures\n",
        "df['OriginStateName'].value_counts()"
      ],
      "execution_count": 42,
      "outputs": [
        {
          "output_type": "execute_result",
          "data": {
            "text/plain": [
              "California                                        814858\n",
              "Texas                                             803314\n",
              "Florida                                           585430\n",
              "Illinois                                          443060\n",
              "Georgia                                           421768\n",
              "New York                                          389436\n",
              "North Carolina                                    341094\n",
              "Colorado                                          282450\n",
              "Virginia                                          271091\n",
              "Arizona                                           204998\n",
              "Michigan                                          203439\n",
              "Pennsylvania                                      188551\n",
              "Nevada                                            184718\n",
              "Minnesota                                         170585\n",
              "Washington                                        161350\n",
              "Massachusetts                                     153634\n",
              "New Jersey                                        142205\n",
              "Tennessee                                         138385\n",
              "Missouri                                          136914\n",
              "Ohio                                              120794\n",
              "Utah                                              120578\n",
              "Hawaii                                            115125\n",
              "Maryland                                          104835\n",
              "Louisiana                                          86370\n",
              "Kentucky                                           83136\n",
              "Oregon                                             76095\n",
              "Indiana                                            67231\n",
              "South Carolina                                     63211\n",
              "Wisconsin                                          60788\n",
              "Oklahoma                                           43425\n",
              "Alabama                                            39869\n",
              "Alaska                                             39801\n",
              "Arkansas                                           31806\n",
              "Nebraska                                           31248\n",
              "Puerto Rico                                        29959\n",
              "Connecticut                                        29783\n",
              "Iowa                                               29532\n",
              "New Mexico                                         27662\n",
              "Idaho                                              26076\n",
              "Montana                                            21532\n",
              "Rhode Island                                       18159\n",
              "North Dakota                                       17141\n",
              "Kansas                                             16178\n",
              "Mississippi                                        15638\n",
              "Maine                                              14924\n",
              "South Dakota                                       14109\n",
              "Vermont                                             9637\n",
              "Wyoming                                             8738\n",
              "New Hampshire                                       8567\n",
              "West Virginia                                       6731\n",
              "U.S. Virgin Islands                                 4647\n",
              "U.S. Pacific Trust Territories and Possessions      1432\n",
              "Name: OriginStateName, dtype: int64"
            ]
          },
          "metadata": {
            "tags": []
          },
          "execution_count": 42
        }
      ]
    },
    {
      "cell_type": "code",
      "metadata": {
        "id": "ZLVUIr70OHpe",
        "outputId": "7e4bbbd0-d106-461b-ab41-d655e1c550aa",
        "colab": {
          "base_uri": "https://localhost:8080/",
          "height": 634
        }
      },
      "source": [
        "#Airlines with the highest number of delays...\n",
        "df.groupby(by='Reporting_Airline')['DepDelay','ArrDelay'].mean().sort_values(by=['DepDelay','ArrDelay'],ascending=False)"
      ],
      "execution_count": 12,
      "outputs": [
        {
          "output_type": "stream",
          "text": [
            "/usr/local/lib/python3.6/dist-packages/ipykernel_launcher.py:2: FutureWarning: Indexing with multiple keys (implicitly converted to a tuple of keys) will be deprecated, use a list instead.\n",
            "  \n"
          ],
          "name": "stderr"
        },
        {
          "output_type": "execute_result",
          "data": {
            "text/html": [
              "<div>\n",
              "<style scoped>\n",
              "    .dataframe tbody tr th:only-of-type {\n",
              "        vertical-align: middle;\n",
              "    }\n",
              "\n",
              "    .dataframe tbody tr th {\n",
              "        vertical-align: top;\n",
              "    }\n",
              "\n",
              "    .dataframe thead th {\n",
              "        text-align: right;\n",
              "    }\n",
              "</style>\n",
              "<table border=\"1\" class=\"dataframe\">\n",
              "  <thead>\n",
              "    <tr style=\"text-align: right;\">\n",
              "      <th></th>\n",
              "      <th>DepDelay</th>\n",
              "      <th>ArrDelay</th>\n",
              "    </tr>\n",
              "    <tr>\n",
              "      <th>Reporting_Airline</th>\n",
              "      <th></th>\n",
              "      <th></th>\n",
              "    </tr>\n",
              "  </thead>\n",
              "  <tbody>\n",
              "    <tr>\n",
              "      <th>B6</th>\n",
              "      <td>17.745474</td>\n",
              "      <td>11.223515</td>\n",
              "    </tr>\n",
              "    <tr>\n",
              "      <th>EV</th>\n",
              "      <td>17.214006</td>\n",
              "      <td>15.506803</td>\n",
              "    </tr>\n",
              "    <tr>\n",
              "      <th>F9</th>\n",
              "      <td>14.577009</td>\n",
              "      <td>8.715867</td>\n",
              "    </tr>\n",
              "    <tr>\n",
              "      <th>YV</th>\n",
              "      <td>13.803164</td>\n",
              "      <td>10.464875</td>\n",
              "    </tr>\n",
              "    <tr>\n",
              "      <th>UA</th>\n",
              "      <td>13.004563</td>\n",
              "      <td>8.289444</td>\n",
              "    </tr>\n",
              "    <tr>\n",
              "      <th>OO</th>\n",
              "      <td>12.564054</td>\n",
              "      <td>7.184953</td>\n",
              "    </tr>\n",
              "    <tr>\n",
              "      <th>AA</th>\n",
              "      <td>12.114915</td>\n",
              "      <td>6.965412</td>\n",
              "    </tr>\n",
              "    <tr>\n",
              "      <th>NK</th>\n",
              "      <td>10.940950</td>\n",
              "      <td>5.103484</td>\n",
              "    </tr>\n",
              "    <tr>\n",
              "      <th>OH</th>\n",
              "      <td>10.704734</td>\n",
              "      <td>6.706320</td>\n",
              "    </tr>\n",
              "    <tr>\n",
              "      <th>9E</th>\n",
              "      <td>10.245765</td>\n",
              "      <td>3.063844</td>\n",
              "    </tr>\n",
              "    <tr>\n",
              "      <th>WN</th>\n",
              "      <td>10.178762</td>\n",
              "      <td>2.577351</td>\n",
              "    </tr>\n",
              "    <tr>\n",
              "      <th>G4</th>\n",
              "      <td>10.122910</td>\n",
              "      <td>8.005639</td>\n",
              "    </tr>\n",
              "    <tr>\n",
              "      <th>MQ</th>\n",
              "      <td>9.272982</td>\n",
              "      <td>6.882879</td>\n",
              "    </tr>\n",
              "    <tr>\n",
              "      <th>YX</th>\n",
              "      <td>8.544064</td>\n",
              "      <td>4.671774</td>\n",
              "    </tr>\n",
              "    <tr>\n",
              "      <th>DL</th>\n",
              "      <td>8.155754</td>\n",
              "      <td>1.185905</td>\n",
              "    </tr>\n",
              "    <tr>\n",
              "      <th>AS</th>\n",
              "      <td>5.034637</td>\n",
              "      <td>1.351394</td>\n",
              "    </tr>\n",
              "    <tr>\n",
              "      <th>HA</th>\n",
              "      <td>1.296400</td>\n",
              "      <td>0.644995</td>\n",
              "    </tr>\n",
              "  </tbody>\n",
              "</table>\n",
              "</div>"
            ],
            "text/plain": [
              "                    DepDelay   ArrDelay\n",
              "Reporting_Airline                      \n",
              "B6                 17.745474  11.223515\n",
              "EV                 17.214006  15.506803\n",
              "F9                 14.577009   8.715867\n",
              "YV                 13.803164  10.464875\n",
              "UA                 13.004563   8.289444\n",
              "OO                 12.564054   7.184953\n",
              "AA                 12.114915   6.965412\n",
              "NK                 10.940950   5.103484\n",
              "OH                 10.704734   6.706320\n",
              "9E                 10.245765   3.063844\n",
              "WN                 10.178762   2.577351\n",
              "G4                 10.122910   8.005639\n",
              "MQ                  9.272982   6.882879\n",
              "YX                  8.544064   4.671774\n",
              "DL                  8.155754   1.185905\n",
              "AS                  5.034637   1.351394\n",
              "HA                  1.296400   0.644995"
            ]
          },
          "metadata": {
            "tags": []
          },
          "execution_count": 12
        }
      ]
    },
    {
      "cell_type": "code",
      "metadata": {
        "id": "t8Q1chqYP0ZT",
        "outputId": "26addea8-6faf-42a2-f0b6-591588623070",
        "colab": {
          "base_uri": "https://localhost:8080/",
          "height": 486
        }
      },
      "source": [
        "fig = plt.figure(figsize=(20,6))\n",
        "ax = fig.add_axes([0,0,1,1])\n",
        "sns.barplot(ax=ax,x='Reporting_Airline',y='DepDelayMinutes',data=df,hue='Month',order=df.groupby(by='Reporting_Airline')[['DepDelay']].mean().sort_values(by=['DepDelay'],ascending=False).index[:5],palette='crest')\n",
        "new_labels = ['Jan', 'Feb', 'Mar', 'Apr', 'May', 'Jun', 'Jul', 'Aug', 'Sep', 'Oct', 'Nov', 'Dec']\n",
        "handles, labels = ax.get_legend_handles_labels()\n",
        "ax.legend(handles=handles, labels=new_labels,title='Month')\n",
        "plt.xlabel(\"Airline Code\")\n",
        "plt.ylabel(\"Average Delay in minutes\")\n",
        "plt.title(\"Average Departure Delay per Month for the 5 worst airlines\");"
      ],
      "execution_count": 13,
      "outputs": [
        {
          "output_type": "display_data",
          "data": {
            "image/png": "[encoded data removed]",
            "text/plain": [
              "<Figure size 1440x432 with 1 Axes>"
            ]
          },
          "metadata": {
            "tags": [],
            "needs_background": "light"
          }
        }
      ]
    },
    {
      "cell_type": "code",
      "metadata": {
        "id": "Yfnhc9NoTSjq",
        "outputId": "e5a93445-2167-497a-debf-cf6e1e607473",
        "colab": {
          "base_uri": "https://localhost:8080/",
          "height": 527
        }
      },
      "source": [
        "fig = plt.figure(figsize=(12,6))\n",
        "ax = fig.add_axes([0,0,1,1])\n",
        "sns.barplot(ax=ax,x='Month',data=df,y='DepDelayMinutes',edgecolor='none',palette='pastel')\n",
        "ax.set_xlabel('Month')\n",
        "ax.set_ylabel('Departure Delay in Minutes')\n",
        "ax.set_title('Departure Delay in Minutes per Month for all flights')"
      ],
      "execution_count": 14,
      "outputs": [
        {
          "output_type": "execute_result",
          "data": {
            "text/plain": [
              "Text(0.5, 1.0, 'Departure Delay in Minutes per Month for all flights')"
            ]
          },
          "metadata": {
            "tags": []
          },
          "execution_count": 14
        },
        {
          "output_type": "display_data",
          "data": {
            "image/png": "[encoded data removed]",
            "text/plain": [
              "<Figure size 864x432 with 1 Axes>"
            ]
          },
          "metadata": {
            "tags": [],
            "needs_background": "light"
          }
        }
      ]
    },
    {
      "cell_type": "code",
      "metadata": {
        "id": "F8OrCaWm2j81",
        "outputId": "a636a827-d36b-4190-bebe-d9b247da02c6",
        "colab": {
          "base_uri": "https://localhost:8080/",
          "height": 447
        }
      },
      "source": [
        "g=sns.catplot(data=pd.melt(df[['ArrDelayMinutes','DepDelayMinutes','Month']],id_vars=['Month']),kind='bar',x='Month',hue='variable',y='value',palette='pastel')\n",
        "g.fig.set_figwidth(12)\n",
        "g.fig.set_figheight(6)\n",
        "legend = g._legend\n",
        "legend.set_title(\"Type of Delay\")\n",
        "for t, l in zip(legend.texts,(\"Arr Delay\", \"Dep Delay\")):\n",
        "    t.set_text(l)\n",
        "\n",
        "\n",
        "g.set_titles('Delay in Minutes per Month')\n",
        "g.set_xlabels('Month')\n",
        "g.set_ylabels('Delay in Minutes');"
      ],
      "execution_count": 15,
      "outputs": [
        {
          "output_type": "display_data",
          "data": {
            "image/png": "[encoded data removed]",
            "text/plain": [
              "<Figure size 864x432 with 1 Axes>"
            ]
          },
          "metadata": {
            "tags": [],
            "needs_background": "light"
          }
        }
      ]
    },
    {
      "cell_type": "code",
      "metadata": {
        "id": "YiXE9CasQ3fW"
      },
      "source": [
        "#df.dtypes.values"
      ],
      "execution_count": 16,
      "outputs": []
    },
    {
      "cell_type": "code",
      "metadata": {
        "id": "tz-AdaA94hRH",
        "outputId": "53031b4e-d74f-4cf0-c4cd-5050e51424e1",
        "colab": {
          "base_uri": "https://localhost:8080/"
        }
      },
      "source": [
        "print(df[['Tail_Number']].value_counts()[:10])\n",
        "#Top 10 Most flown flights"
      ],
      "execution_count": 17,
      "outputs": [
        {
          "output_type": "stream",
          "text": [
            "Tail_Number\n",
            "N485HA         3697\n",
            "N492HA         3608\n",
            "N481HA         3596\n",
            "N480HA         3587\n",
            "N490HA         3485\n",
            "N483HA         3483\n",
            "N489HA         3447\n",
            "N487HA         3299\n",
            "N488HA         3289\n",
            "N478HA         3215\n",
            "dtype: int64\n"
          ],
          "name": "stdout"
        }
      ]
    },
    {
      "cell_type": "code",
      "metadata": {
        "id": "Aeoollqa8aQ0",
        "outputId": "04828640-4135-470b-e065-6736b506cfa0",
        "colab": {
          "base_uri": "https://localhost:8080/"
        }
      },
      "source": [
        "df.groupby(by=['OriginCityName','DestCityName'])['Year'].count().sort_values(ascending=False)[:20]\n",
        "#Top 20 Busiest Routes"
      ],
      "execution_count": 18,
      "outputs": [
        {
          "output_type": "execute_result",
          "data": {
            "text/plain": [
              "OriginCityName     DestCityName     \n",
              "Chicago, IL        New York, NY         19876\n",
              "New York, NY       Chicago, IL          19869\n",
              "                   Boston, MA           15806\n",
              "Boston, MA         New York, NY         15749\n",
              "Los Angeles, CA    San Francisco, CA    14630\n",
              "San Francisco, CA  Los Angeles, CA      14614\n",
              "Atlanta, GA        New York, NY         13008\n",
              "New York, NY       Atlanta, GA          13006\n",
              "Los Angeles, CA    New York, NY         12862\n",
              "New York, NY       Los Angeles, CA      12804\n",
              "Atlanta, GA        Chicago, IL          12008\n",
              "Washington, DC     Chicago, IL          11982\n",
              "Chicago, IL        Washington, DC       11978\n",
              "                   Minneapolis, MN      11924\n",
              "Minneapolis, MN    Chicago, IL          11902\n",
              "Chicago, IL        Atlanta, GA          11899\n",
              "Los Angeles, CA    Las Vegas, NV        11722\n",
              "Las Vegas, NV      Los Angeles, CA      11718\n",
              "Atlanta, GA        Washington, DC       11522\n",
              "Washington, DC     Atlanta, GA          11502\n",
              "Name: Year, dtype: int64"
            ]
          },
          "metadata": {
            "tags": []
          },
          "execution_count": 18
        }
      ]
    },
    {
      "cell_type": "code",
      "metadata": {
        "id": "V-ExXgyu8mUC"
      },
      "source": [
        "#does dep delay contribute to arr delay...\n",
        "#aiprot with most delays..\n",
        "#airline with most delays...\n",
        "#corr() for delays with other factors...\n",
        "#Types of delays...\n",
        "#Cancelled statistics...\n",
        "\n",
        "#Route wise monthly dist of num of flights for top 5 busiest routes\n",
        "#filling delay using monthly average of particular routes..\n",
        "#and using traffic at that airport at that particular time to predict delay...\n",
        "#analysing passenger capacity and occupancy on flights using a different dataset...\n",
        "#time wise and datewise passenger occupany analysis, categorise according to flight type\n",
        "#airpots with most arrival routes and busiest"
      ],
      "execution_count": 19,
      "outputs": []
    },
    {
      "cell_type": "code",
      "metadata": {
        "id": "cSjZDc3GVH8P",
        "outputId": "a0830f24-c558-43a7-d09d-47bb124dff7d",
        "colab": {
          "base_uri": "https://localhost:8080/"
        }
      },
      "source": [
        "#print(df['Cancelled'].value_counts())\n",
        "#Statistics for number of cancellations...\n",
        "#Percent of cancelled flights\n",
        "\n",
        "print(\"Percentage of cancelled flights : %.2f\" %(100*df['Cancelled'].value_counts()[1]/(df['Cancelled'].value_counts()[1]+df['Cancelled'].value_counts()[0])))"
      ],
      "execution_count": 20,
      "outputs": [
        {
          "output_type": "stream",
          "text": [
            "Percentage of cancelled flights : 1.82\n"
          ],
          "name": "stdout"
        }
      ]
    },
    {
      "cell_type": "code",
      "metadata": {
        "id": "RcH8OFCxoiWl",
        "outputId": "7fa664cf-64d8-4043-f99b-175d671d2a63",
        "colab": {
          "base_uri": "https://localhost:8080/"
        }
      },
      "source": [
        "df[['Origin']].value_counts()[:10]\n",
        "#Top 10 busiest airports"
      ],
      "execution_count": 21,
      "outputs": [
        {
          "output_type": "execute_result",
          "data": {
            "text/plain": [
              "Origin\n",
              "ATL       395009\n",
              "ORD       339606\n",
              "DFW       304344\n",
              "DEN       252026\n",
              "CLT       235496\n",
              "LAX       219952\n",
              "IAH       179688\n",
              "PHX       175328\n",
              "LGA       171665\n",
              "SFO       170918\n",
              "dtype: int64"
            ]
          },
          "metadata": {
            "tags": []
          },
          "execution_count": 21
        }
      ]
    },
    {
      "cell_type": "code",
      "metadata": {
        "id": "L-niHZ-IowS6"
      },
      "source": [
        "# df['DepTime'].isna().sum()"
      ],
      "execution_count": 22,
      "outputs": []
    },
    {
      "cell_type": "code",
      "metadata": {
        "id": "ewjpTY1MpvFk",
        "outputId": "f92acc7f-2cf7-4ec3-9e7e-b6fef9e1a1f1",
        "colab": {
          "base_uri": "https://localhost:8080/",
          "height": 1000
        }
      },
      "source": [
        "ind=df.groupby(by=['OriginCityName','DestCityName'])['Year'].count().sort_values(ascending=False).index[:10:2]\n",
        "ind1=df.groupby(by=['OriginCityName','DestCityName'])['Year'].count().sort_values(ascending=False).index[1:10:2]\n",
        "\n",
        "#print(ind)\n",
        "# start = ind.get_level_values('OriginCityName')\n",
        "# end = ind.get_level_values('DestCityName')\n",
        "# print(start)\n",
        "# print(end)\n",
        "\n",
        "\n",
        "dat=df.groupby(by=['OriginCityName','DestCityName','Month'])[['Year']].count().reset_index(2).rename({'Year':'Count'},axis=1).loc[lambda df:df.apply(lambda x: x.name in ind,axis=1),:]\n",
        "print(dat)\n",
        "dat1=df.groupby(by=['OriginCityName','DestCityName','Month'])[['Year']].count().reset_index(2).rename({'Year':'Count'},axis=1).loc[lambda df:df.apply(lambda x: x.name in ind1,axis=1),:]\n",
        "fig, axs = plt.subplots(2, 1, figsize=(20,20))\n",
        "ax=fig.add_axes([0,0,1,1])\n",
        "# print(axs.shape)\n",
        "# sns.barplot(x=dat.index,y=dat['Count'],hue=dat['Month'],palette='Set3',ax=axs[0])\n",
        "# axs[0].set_title(\"monthly dist of num of flights for top 5 busiest routes\")\n",
        "# sns.barplot(x=dat1.index,y=dat1['Count'],hue=dat1['Month'],palette='Set3',ax=axs[1])"
      ],
      "execution_count": 23,
      "outputs": [
        {
          "output_type": "stream",
          "text": [
            "                                   Month  Count\n",
            "OriginCityName  DestCityName                   \n",
            "Atlanta, GA     New York, NY           1   1062\n",
            "                New York, NY           2    956\n",
            "                New York, NY           3   1138\n",
            "                New York, NY           4   1108\n",
            "                New York, NY           5   1121\n",
            "                New York, NY           6   1095\n",
            "                New York, NY           7   1124\n",
            "                New York, NY           8   1142\n",
            "                New York, NY           9   1060\n",
            "                New York, NY          10   1099\n",
            "                New York, NY          11   1035\n",
            "                New York, NY          12   1068\n",
            "Chicago, IL     New York, NY           1   1651\n",
            "                New York, NY           2   1585\n",
            "                New York, NY           3   1750\n",
            "                New York, NY           4   1720\n",
            "                New York, NY           5   1752\n",
            "                New York, NY           6   1687\n",
            "                New York, NY           7   1718\n",
            "                New York, NY           8   1778\n",
            "                New York, NY           9   1638\n",
            "                New York, NY          10   1713\n",
            "                New York, NY          11   1492\n",
            "                New York, NY          12   1392\n",
            "Los Angeles, CA New York, NY           1   1064\n",
            "                New York, NY           2   1000\n",
            "                New York, NY           3   1126\n",
            "                New York, NY           4   1069\n",
            "                New York, NY           5   1097\n",
            "                New York, NY           6   1061\n",
            "                New York, NY           7   1068\n",
            "                New York, NY           8   1077\n",
            "                New York, NY           9   1049\n",
            "                New York, NY          10   1106\n",
            "                New York, NY          11   1049\n",
            "                New York, NY          12   1096\n",
            "                San Francisco, CA      1   1285\n",
            "                San Francisco, CA      2   1162\n",
            "                San Francisco, CA      3   1296\n",
            "                San Francisco, CA      4   1200\n",
            "                San Francisco, CA      5   1234\n",
            "                San Francisco, CA      6   1203\n",
            "                San Francisco, CA      7   1248\n",
            "                San Francisco, CA      8   1383\n",
            "                San Francisco, CA      9   1147\n",
            "                San Francisco, CA     10   1199\n",
            "                San Francisco, CA     11   1140\n",
            "                San Francisco, CA     12   1133\n",
            "New York, NY    Boston, MA             1   1352\n",
            "                Boston, MA             2   1308\n",
            "                Boston, MA             3   1423\n",
            "                Boston, MA             4   1399\n",
            "                Boston, MA             5   1401\n",
            "                Boston, MA             6   1269\n",
            "                Boston, MA             7   1243\n",
            "                Boston, MA             8   1330\n",
            "                Boston, MA             9   1305\n",
            "                Boston, MA            10   1378\n",
            "                Boston, MA            11   1221\n",
            "                Boston, MA            12   1177\n"
          ],
          "name": "stdout"
        },
        {
          "output_type": "display_data",
          "data": {
            "image/png": "[encoded data removed]",
            "text/plain": [
              "<Figure size 1440x1440 with 3 Axes>"
            ]
          },
          "metadata": {
            "tags": [],
            "needs_background": "light"
          }
        }
      ]
    },
    {
      "cell_type": "code",
      "metadata": {
        "id": "MDqY2zJtNaBM",
        "outputId": "0c55fbda-1cc5-46a3-e4c4-36719465f968",
        "colab": {
          "base_uri": "https://localhost:8080/",
          "height": 510
        }
      },
      "source": [
        "#Airline Cancellations record\n",
        "fig=plt.figure(figsize=(10,6))\n",
        "ax = fig.add_axes([0,0,1,1])\n",
        "sns.countplot(ax=ax,x='Reporting_Airline',data=df.loc[df['Cancelled']==1,:],palette='pastel')\n",
        "ax.set_title('Number of Cancellations per Airline')\n",
        "ax.set_xlabel('Airline Code')\n",
        "ax.set_ylabel('Number of flights cancelled');"
      ],
      "execution_count": 24,
      "outputs": [
        {
          "output_type": "display_data",
          "data": {
            "image/png": "[encoded data removed]",
            "text/plain": [
              "<Figure size 720x432 with 1 Axes>"
            ]
          },
          "metadata": {
            "tags": [],
            "needs_background": "light"
          }
        }
      ]
    },
    {
      "cell_type": "code",
      "metadata": {
        "id": "TBZuM7rTl5Gt",
        "outputId": "1e7b700e-bcf4-4204-f28d-0f107f64a87b",
        "colab": {
          "base_uri": "https://localhost:8080/",
          "height": 520
        }
      },
      "source": [
        "ax=(df.loc[df['Cancelled']==1,:].groupby(by='Reporting_Airline')['Year'].count()*100 / df.groupby(by='Reporting_Airline')['Year'].count()).plot(kind='bar',figsize=(12,8),cmap='RdGy')\n",
        "ax.set_title(\"Percentage of Cancelled Flights by Reporting Airline\");\n",
        "ax.set_xlabel('Airline Code')\n",
        "ax.set_ylabel('Percentage of flights cancelled');"
      ],
      "execution_count": 25,
      "outputs": [
        {
          "output_type": "display_data",
          "data": {
            "image/png": "[encoded data removed]",
            "text/plain": [
              "<Figure size 864x576 with 1 Axes>"
            ]
          },
          "metadata": {
            "tags": [],
            "needs_background": "light"
          }
        }
      ]
    },
    {
      "cell_type": "code",
      "metadata": {
        "id": "6zeWnBcBsIB3"
      },
      "source": [
        "# df.loc[0:1000,['OriginCityName','DestCityName']].apply(lambda x:[min(x['OriginCityName'],x['DestCityName']),max(x['OriginCityName'],x['DestCityName'])],axis=1)"
      ],
      "execution_count": 26,
      "outputs": []
    },
    {
      "cell_type": "code",
      "metadata": {
        "id": "rpYGrfoKLVjS",
        "outputId": "7bd72fc3-302e-41a7-ed1e-fb404c738b52",
        "colab": {
          "base_uri": "https://localhost:8080/"
        }
      },
      "source": [
        "#look at difference between using .loc and using two bracksts like df[][]\n",
        "#Extremely Improtant read documentation...\n",
        "#.loc is always preferred to chained indexing...\n",
        "#[] returns a lower order slice.. not a dataframe\n",
        "test = df[0:1000]\n",
        "print(type(test))"
      ],
      "execution_count": 27,
      "outputs": [
        {
          "output_type": "stream",
          "text": [
            "<class 'pandas.core.frame.DataFrame'>\n"
          ],
          "name": "stdout"
        }
      ]
    },
    {
      "cell_type": "code",
      "metadata": {
        "id": "0qJiGTnnBt6b"
      },
      "source": [
        "#pandas where and mask\n",
        "#transform vs apply https://www.analyticsvidhya.com/blog/2020/03/understanding-transform-function-python/\n"
      ],
      "execution_count": 28,
      "outputs": []
    },
    {
      "cell_type": "code",
      "metadata": {
        "id": "YVab-1SAViWI",
        "outputId": "eacc6692-a197-4e8d-b5ac-d465601e0476",
        "colab": {
          "base_uri": "https://localhost:8080/",
          "height": 373
        }
      },
      "source": [
        "#Airports with highest departure avg delays in minutes\n",
        "\n",
        "df.groupby(by='OriginCityName')[['DepDelayMinutes']].mean().sort_values(by='DepDelayMinutes',ascending=False).rename({'DepDelayMinutes':\"Avg Departure Delay\"},axis=1)[:10]"
      ],
      "execution_count": 29,
      "outputs": [
        {
          "output_type": "execute_result",
          "data": {
            "text/html": [
              "<div>\n",
              "<style scoped>\n",
              "    .dataframe tbody tr th:only-of-type {\n",
              "        vertical-align: middle;\n",
              "    }\n",
              "\n",
              "    .dataframe tbody tr th {\n",
              "        vertical-align: top;\n",
              "    }\n",
              "\n",
              "    .dataframe thead th {\n",
              "        text-align: right;\n",
              "    }\n",
              "</style>\n",
              "<table border=\"1\" class=\"dataframe\">\n",
              "  <thead>\n",
              "    <tr style=\"text-align: right;\">\n",
              "      <th></th>\n",
              "      <th>Avg Departure Delay</th>\n",
              "    </tr>\n",
              "    <tr>\n",
              "      <th>OriginCityName</th>\n",
              "      <th></th>\n",
              "    </tr>\n",
              "  </thead>\n",
              "  <tbody>\n",
              "    <tr>\n",
              "      <th>North Bend/Coos Bay, OR</th>\n",
              "      <td>38.171745</td>\n",
              "    </tr>\n",
              "    <tr>\n",
              "      <th>Mammoth Lakes, CA</th>\n",
              "      <td>35.853657</td>\n",
              "    </tr>\n",
              "    <tr>\n",
              "      <th>Meridian, MS</th>\n",
              "      <td>34.480423</td>\n",
              "    </tr>\n",
              "    <tr>\n",
              "      <th>Hyannis, MA</th>\n",
              "      <td>33.542168</td>\n",
              "    </tr>\n",
              "    <tr>\n",
              "      <th>Nantucket, MA</th>\n",
              "      <td>33.289906</td>\n",
              "    </tr>\n",
              "    <tr>\n",
              "      <th>Jamestown, ND</th>\n",
              "      <td>32.699135</td>\n",
              "    </tr>\n",
              "    <tr>\n",
              "      <th>Hancock/Houghton, MI</th>\n",
              "      <td>31.379259</td>\n",
              "    </tr>\n",
              "    <tr>\n",
              "      <th>Eagle, CO</th>\n",
              "      <td>31.358860</td>\n",
              "    </tr>\n",
              "    <tr>\n",
              "      <th>Salina, KS</th>\n",
              "      <td>30.712389</td>\n",
              "    </tr>\n",
              "    <tr>\n",
              "      <th>Marquette, MI</th>\n",
              "      <td>30.195175</td>\n",
              "    </tr>\n",
              "  </tbody>\n",
              "</table>\n",
              "</div>"
            ],
            "text/plain": [
              "                         Avg Departure Delay\n",
              "OriginCityName                              \n",
              "North Bend/Coos Bay, OR            38.171745\n",
              "Mammoth Lakes, CA                  35.853657\n",
              "Meridian, MS                       34.480423\n",
              "Hyannis, MA                        33.542168\n",
              "Nantucket, MA                      33.289906\n",
              "Jamestown, ND                      32.699135\n",
              "Hancock/Houghton, MI               31.379259\n",
              "Eagle, CO                          31.358860\n",
              "Salina, KS                         30.712389\n",
              "Marquette, MI                      30.195175"
            ]
          },
          "metadata": {
            "tags": []
          },
          "execution_count": 29
        }
      ]
    },
    {
      "cell_type": "code",
      "metadata": {
        "id": "OOiFC6uGtvCG",
        "outputId": "081a27c1-587d-4264-902c-4a76888cfa38",
        "colab": {
          "base_uri": "https://localhost:8080/",
          "height": 373
        }
      },
      "source": [
        "#Airports with highest arrival avg delays in minutes\n",
        "df.groupby(by='DestCityName')[['ArrDelayMinutes']].mean().sort_values(by='ArrDelayMinutes',ascending=False).rename({'ArrDelayMinutes':\"Avg Arrival Delay\"},axis=1)[:10]"
      ],
      "execution_count": 30,
      "outputs": [
        {
          "output_type": "execute_result",
          "data": {
            "text/html": [
              "<div>\n",
              "<style scoped>\n",
              "    .dataframe tbody tr th:only-of-type {\n",
              "        vertical-align: middle;\n",
              "    }\n",
              "\n",
              "    .dataframe tbody tr th {\n",
              "        vertical-align: top;\n",
              "    }\n",
              "\n",
              "    .dataframe thead th {\n",
              "        text-align: right;\n",
              "    }\n",
              "</style>\n",
              "<table border=\"1\" class=\"dataframe\">\n",
              "  <thead>\n",
              "    <tr style=\"text-align: right;\">\n",
              "      <th></th>\n",
              "      <th>Avg Arrival Delay</th>\n",
              "    </tr>\n",
              "    <tr>\n",
              "      <th>DestCityName</th>\n",
              "      <th></th>\n",
              "    </tr>\n",
              "  </thead>\n",
              "  <tbody>\n",
              "    <tr>\n",
              "      <th>Ogdensburg, NY</th>\n",
              "      <td>32.026211</td>\n",
              "    </tr>\n",
              "    <tr>\n",
              "      <th>Staunton, VA</th>\n",
              "      <td>30.581259</td>\n",
              "    </tr>\n",
              "    <tr>\n",
              "      <th>Devils Lake, ND</th>\n",
              "      <td>29.673504</td>\n",
              "    </tr>\n",
              "    <tr>\n",
              "      <th>Marquette, MI</th>\n",
              "      <td>29.200293</td>\n",
              "    </tr>\n",
              "    <tr>\n",
              "      <th>Laramie, WY</th>\n",
              "      <td>27.816326</td>\n",
              "    </tr>\n",
              "    <tr>\n",
              "      <th>Meridian, MS</th>\n",
              "      <td>26.943975</td>\n",
              "    </tr>\n",
              "    <tr>\n",
              "      <th>Quincy, IL</th>\n",
              "      <td>26.710884</td>\n",
              "    </tr>\n",
              "    <tr>\n",
              "      <th>Newark, NJ</th>\n",
              "      <td>26.603657</td>\n",
              "    </tr>\n",
              "    <tr>\n",
              "      <th>Salina, KS</th>\n",
              "      <td>26.084257</td>\n",
              "    </tr>\n",
              "    <tr>\n",
              "      <th>Ponce, PR</th>\n",
              "      <td>26.070110</td>\n",
              "    </tr>\n",
              "  </tbody>\n",
              "</table>\n",
              "</div>"
            ],
            "text/plain": [
              "                 Avg Arrival Delay\n",
              "DestCityName                      \n",
              "Ogdensburg, NY           32.026211\n",
              "Staunton, VA             30.581259\n",
              "Devils Lake, ND          29.673504\n",
              "Marquette, MI            29.200293\n",
              "Laramie, WY              27.816326\n",
              "Meridian, MS             26.943975\n",
              "Quincy, IL               26.710884\n",
              "Newark, NJ               26.603657\n",
              "Salina, KS               26.084257\n",
              "Ponce, PR                26.070110"
            ]
          },
          "metadata": {
            "tags": []
          },
          "execution_count": 30
        }
      ]
    },
    {
      "cell_type": "code",
      "metadata": {
        "id": "vM61mQ7SupKU"
      },
      "source": [
        "# # col1 = df.groupby(by='OriginCityName')[['TaxiOut']].mean().sort_values(by='TaxiOut',ascending=False)\n",
        "# # col2 = df.groupby(by='OriginCityName')[['Year']].count().sort_values(by='Year',ascending=False)\n",
        "\n",
        "# col1 = df.groupby(by='OriginCityName')[['TaxiOut']].mean()\n",
        "# col2 = df.groupby(by='OriginCityName')[['Year']].count()\n",
        "# col = pd.concat([col1,col2],axis=1)\n",
        "# col = col.reset_index(drop=True)\n",
        "# sns.scatterplot(data=col/col.max())"
      ],
      "execution_count": 31,
      "outputs": []
    },
    {
      "cell_type": "code",
      "metadata": {
        "id": "s1p0QBy036Jc",
        "outputId": "22d038fc-9fee-4aba-df04-e1f278e80a69",
        "colab": {
          "base_uri": "https://localhost:8080/",
          "height": 1000
        }
      },
      "source": [
        "df.corr()"
      ],
      "execution_count": 32,
      "outputs": [
        {
          "output_type": "execute_result",
          "data": {
            "text/html": [
              "<div>\n",
              "<style scoped>\n",
              "    .dataframe tbody tr th:only-of-type {\n",
              "        vertical-align: middle;\n",
              "    }\n",
              "\n",
              "    .dataframe tbody tr th {\n",
              "        vertical-align: top;\n",
              "    }\n",
              "\n",
              "    .dataframe thead th {\n",
              "        text-align: right;\n",
              "    }\n",
              "</style>\n",
              "<table border=\"1\" class=\"dataframe\">\n",
              "  <thead>\n",
              "    <tr style=\"text-align: right;\">\n",
              "      <th></th>\n",
              "      <th>Year</th>\n",
              "      <th>Quarter</th>\n",
              "      <th>Month</th>\n",
              "      <th>DayofMonth</th>\n",
              "      <th>DayOfWeek</th>\n",
              "      <th>CRSDepTime</th>\n",
              "      <th>DepTime</th>\n",
              "      <th>DepDelay</th>\n",
              "      <th>DepDelayMinutes</th>\n",
              "      <th>DepDel15</th>\n",
              "      <th>DepartureDelayGroups</th>\n",
              "      <th>TaxiOut</th>\n",
              "      <th>WheelsOff</th>\n",
              "      <th>WheelsOn</th>\n",
              "      <th>TaxiIn</th>\n",
              "      <th>CRSArrTime</th>\n",
              "      <th>ArrTime</th>\n",
              "      <th>ArrDelay</th>\n",
              "      <th>ArrDelayMinutes</th>\n",
              "      <th>ArrDel15</th>\n",
              "      <th>ArrivalDelayGroups</th>\n",
              "      <th>Cancelled</th>\n",
              "      <th>Diverted</th>\n",
              "      <th>CRSElapsedTime</th>\n",
              "      <th>ActualElapsedTime</th>\n",
              "      <th>AirTime</th>\n",
              "      <th>Distance</th>\n",
              "      <th>DistanceGroup</th>\n",
              "      <th>CarrierDelay</th>\n",
              "      <th>WeatherDelay</th>\n",
              "      <th>NASDelay</th>\n",
              "      <th>SecurityDelay</th>\n",
              "      <th>LateAircraftDelay</th>\n",
              "    </tr>\n",
              "  </thead>\n",
              "  <tbody>\n",
              "    <tr>\n",
              "      <th>Year</th>\n",
              "      <td>NaN</td>\n",
              "      <td>NaN</td>\n",
              "      <td>NaN</td>\n",
              "      <td>NaN</td>\n",
              "      <td>NaN</td>\n",
              "      <td>NaN</td>\n",
              "      <td>NaN</td>\n",
              "      <td>NaN</td>\n",
              "      <td>NaN</td>\n",
              "      <td>NaN</td>\n",
              "      <td>NaN</td>\n",
              "      <td>NaN</td>\n",
              "      <td>NaN</td>\n",
              "      <td>NaN</td>\n",
              "      <td>NaN</td>\n",
              "      <td>NaN</td>\n",
              "      <td>NaN</td>\n",
              "      <td>NaN</td>\n",
              "      <td>NaN</td>\n",
              "      <td>NaN</td>\n",
              "      <td>NaN</td>\n",
              "      <td>NaN</td>\n",
              "      <td>NaN</td>\n",
              "      <td>NaN</td>\n",
              "      <td>NaN</td>\n",
              "      <td>NaN</td>\n",
              "      <td>NaN</td>\n",
              "      <td>NaN</td>\n",
              "      <td>NaN</td>\n",
              "      <td>NaN</td>\n",
              "      <td>NaN</td>\n",
              "      <td>NaN</td>\n",
              "      <td>NaN</td>\n",
              "    </tr>\n",
              "    <tr>\n",
              "      <th>Quarter</th>\n",
              "      <td>NaN</td>\n",
              "      <td>1.000000</td>\n",
              "      <td>0.970532</td>\n",
              "      <td>0.005507</td>\n",
              "      <td>-0.005224</td>\n",
              "      <td>-0.000297</td>\n",
              "      <td>-0.002841</td>\n",
              "      <td>-0.016102</td>\n",
              "      <td>-0.016202</td>\n",
              "      <td>-0.020987</td>\n",
              "      <td>-0.020884</td>\n",
              "      <td>-0.020188</td>\n",
              "      <td>-0.003709</td>\n",
              "      <td>-0.009196</td>\n",
              "      <td>0.009791</td>\n",
              "      <td>-0.010532</td>\n",
              "      <td>-0.009261</td>\n",
              "      <td>-0.021498</td>\n",
              "      <td>-0.018875</td>\n",
              "      <td>-0.026449</td>\n",
              "      <td>-0.027541</td>\n",
              "      <td>-0.045986</td>\n",
              "      <td>-0.003699</td>\n",
              "      <td>-0.007084</td>\n",
              "      <td>-0.012462</td>\n",
              "      <td>-0.010845</td>\n",
              "      <td>-0.001430</td>\n",
              "      <td>-0.001441</td>\n",
              "      <td>0.001062</td>\n",
              "      <td>-0.012515</td>\n",
              "      <td>-0.007644</td>\n",
              "      <td>-0.003331</td>\n",
              "      <td>-0.003503</td>\n",
              "    </tr>\n",
              "    <tr>\n",
              "      <th>Month</th>\n",
              "      <td>NaN</td>\n",
              "      <td>0.970532</td>\n",
              "      <td>1.000000</td>\n",
              "      <td>0.004140</td>\n",
              "      <td>0.005966</td>\n",
              "      <td>-0.000009</td>\n",
              "      <td>-0.002244</td>\n",
              "      <td>-0.015004</td>\n",
              "      <td>-0.015440</td>\n",
              "      <td>-0.018633</td>\n",
              "      <td>-0.019130</td>\n",
              "      <td>-0.020165</td>\n",
              "      <td>-0.003218</td>\n",
              "      <td>-0.009200</td>\n",
              "      <td>0.009887</td>\n",
              "      <td>-0.010770</td>\n",
              "      <td>-0.009336</td>\n",
              "      <td>-0.020403</td>\n",
              "      <td>-0.018191</td>\n",
              "      <td>-0.024522</td>\n",
              "      <td>-0.025963</td>\n",
              "      <td>-0.047177</td>\n",
              "      <td>-0.003743</td>\n",
              "      <td>-0.006243</td>\n",
              "      <td>-0.011678</td>\n",
              "      <td>-0.010051</td>\n",
              "      <td>-0.000789</td>\n",
              "      <td>-0.000820</td>\n",
              "      <td>0.001000</td>\n",
              "      <td>-0.014576</td>\n",
              "      <td>-0.010293</td>\n",
              "      <td>-0.002341</td>\n",
              "      <td>-0.002578</td>\n",
              "    </tr>\n",
              "    <tr>\n",
              "      <th>DayofMonth</th>\n",
              "      <td>NaN</td>\n",
              "      <td>0.005507</td>\n",
              "      <td>0.004140</td>\n",
              "      <td>1.000000</td>\n",
              "      <td>0.007803</td>\n",
              "      <td>-0.001098</td>\n",
              "      <td>-0.001390</td>\n",
              "      <td>0.002593</td>\n",
              "      <td>0.002282</td>\n",
              "      <td>0.001518</td>\n",
              "      <td>0.002965</td>\n",
              "      <td>-0.000240</td>\n",
              "      <td>-0.001565</td>\n",
              "      <td>-0.002962</td>\n",
              "      <td>0.001268</td>\n",
              "      <td>-0.002121</td>\n",
              "      <td>-0.002903</td>\n",
              "      <td>0.001180</td>\n",
              "      <td>0.001778</td>\n",
              "      <td>0.001154</td>\n",
              "      <td>0.001186</td>\n",
              "      <td>0.009042</td>\n",
              "      <td>0.000826</td>\n",
              "      <td>0.002701</td>\n",
              "      <td>0.002329</td>\n",
              "      <td>0.002329</td>\n",
              "      <td>0.002441</td>\n",
              "      <td>0.002387</td>\n",
              "      <td>-0.000805</td>\n",
              "      <td>0.002652</td>\n",
              "      <td>0.007097</td>\n",
              "      <td>-0.005192</td>\n",
              "      <td>-0.000164</td>\n",
              "    </tr>\n",
              "    <tr>\n",
              "      <th>DayOfWeek</th>\n",
              "      <td>NaN</td>\n",
              "      <td>-0.005224</td>\n",
              "      <td>0.005966</td>\n",
              "      <td>0.007803</td>\n",
              "      <td>1.000000</td>\n",
              "      <td>0.004656</td>\n",
              "      <td>0.003060</td>\n",
              "      <td>0.000108</td>\n",
              "      <td>-0.000497</td>\n",
              "      <td>-0.000653</td>\n",
              "      <td>-0.001027</td>\n",
              "      <td>-0.018933</td>\n",
              "      <td>0.002039</td>\n",
              "      <td>0.002120</td>\n",
              "      <td>0.006795</td>\n",
              "      <td>0.003600</td>\n",
              "      <td>0.002126</td>\n",
              "      <td>-0.002702</td>\n",
              "      <td>-0.001307</td>\n",
              "      <td>-0.003249</td>\n",
              "      <td>-0.004358</td>\n",
              "      <td>-0.006883</td>\n",
              "      <td>0.002243</td>\n",
              "      <td>0.012035</td>\n",
              "      <td>0.009861</td>\n",
              "      <td>0.012250</td>\n",
              "      <td>0.014111</td>\n",
              "      <td>0.014063</td>\n",
              "      <td>0.011140</td>\n",
              "      <td>0.004843</td>\n",
              "      <td>-0.013017</td>\n",
              "      <td>0.004920</td>\n",
              "      <td>-0.004659</td>\n",
              "    </tr>\n",
              "    <tr>\n",
              "      <th>CRSDepTime</th>\n",
              "      <td>NaN</td>\n",
              "      <td>-0.000297</td>\n",
              "      <td>-0.000009</td>\n",
              "      <td>-0.001098</td>\n",
              "      <td>0.004656</td>\n",
              "      <td>1.000000</td>\n",
              "      <td>0.955878</td>\n",
              "      <td>0.098560</td>\n",
              "      <td>0.093044</td>\n",
              "      <td>0.165288</td>\n",
              "      <td>0.137207</td>\n",
              "      <td>0.001504</td>\n",
              "      <td>0.929004</td>\n",
              "      <td>0.625651</td>\n",
              "      <td>-0.041854</td>\n",
              "      <td>0.683573</td>\n",
              "      <td>0.595320</td>\n",
              "      <td>0.093351</td>\n",
              "      <td>0.082713</td>\n",
              "      <td>0.136379</td>\n",
              "      <td>0.121697</td>\n",
              "      <td>0.016146</td>\n",
              "      <td>0.000916</td>\n",
              "      <td>-0.019527</td>\n",
              "      <td>-0.019208</td>\n",
              "      <td>-0.016306</td>\n",
              "      <td>-0.010483</td>\n",
              "      <td>-0.011529</td>\n",
              "      <td>-0.053511</td>\n",
              "      <td>-0.003581</td>\n",
              "      <td>-0.048808</td>\n",
              "      <td>-0.006023</td>\n",
              "      <td>0.123247</td>\n",
              "    </tr>\n",
              "    <tr>\n",
              "      <th>DepTime</th>\n",
              "      <td>NaN</td>\n",
              "      <td>-0.002841</td>\n",
              "      <td>-0.002244</td>\n",
              "      <td>-0.001390</td>\n",
              "      <td>0.003060</td>\n",
              "      <td>0.955878</td>\n",
              "      <td>1.000000</td>\n",
              "      <td>0.129090</td>\n",
              "      <td>0.121809</td>\n",
              "      <td>0.213740</td>\n",
              "      <td>0.192266</td>\n",
              "      <td>0.011986</td>\n",
              "      <td>0.970380</td>\n",
              "      <td>0.650660</td>\n",
              "      <td>-0.037224</td>\n",
              "      <td>0.683586</td>\n",
              "      <td>0.619364</td>\n",
              "      <td>0.124973</td>\n",
              "      <td>0.111338</td>\n",
              "      <td>0.180332</td>\n",
              "      <td>0.174304</td>\n",
              "      <td>0.009225</td>\n",
              "      <td>0.002827</td>\n",
              "      <td>-0.022660</td>\n",
              "      <td>-0.021384</td>\n",
              "      <td>-0.020423</td>\n",
              "      <td>-0.016014</td>\n",
              "      <td>-0.017042</td>\n",
              "      <td>-0.057970</td>\n",
              "      <td>-0.026067</td>\n",
              "      <td>-0.027923</td>\n",
              "      <td>-0.002186</td>\n",
              "      <td>0.142550</td>\n",
              "    </tr>\n",
              "    <tr>\n",
              "      <th>DepDelay</th>\n",
              "      <td>NaN</td>\n",
              "      <td>-0.016102</td>\n",
              "      <td>-0.015004</td>\n",
              "      <td>0.002593</td>\n",
              "      <td>0.000108</td>\n",
              "      <td>0.098560</td>\n",
              "      <td>0.129090</td>\n",
              "      <td>1.000000</td>\n",
              "      <td>0.997411</td>\n",
              "      <td>0.582207</td>\n",
              "      <td>0.852087</td>\n",
              "      <td>0.066767</td>\n",
              "      <td>0.119031</td>\n",
              "      <td>0.025410</td>\n",
              "      <td>0.014813</td>\n",
              "      <td>0.084275</td>\n",
              "      <td>0.018065</td>\n",
              "      <td>0.963505</td>\n",
              "      <td>0.974480</td>\n",
              "      <td>0.535807</td>\n",
              "      <td>0.800920</td>\n",
              "      <td>0.025973</td>\n",
              "      <td>0.017937</td>\n",
              "      <td>0.019050</td>\n",
              "      <td>0.024560</td>\n",
              "      <td>0.014564</td>\n",
              "      <td>0.013826</td>\n",
              "      <td>0.013696</td>\n",
              "      <td>0.644940</td>\n",
              "      <td>0.305893</td>\n",
              "      <td>0.201179</td>\n",
              "      <td>0.023587</td>\n",
              "      <td>0.508841</td>\n",
              "    </tr>\n",
              "    <tr>\n",
              "      <th>DepDelayMinutes</th>\n",
              "      <td>NaN</td>\n",
              "      <td>-0.016202</td>\n",
              "      <td>-0.015440</td>\n",
              "      <td>0.002282</td>\n",
              "      <td>-0.000497</td>\n",
              "      <td>0.093044</td>\n",
              "      <td>0.121809</td>\n",
              "      <td>0.997411</td>\n",
              "      <td>1.000000</td>\n",
              "      <td>0.563300</td>\n",
              "      <td>0.838494</td>\n",
              "      <td>0.065457</td>\n",
              "      <td>0.111910</td>\n",
              "      <td>0.019479</td>\n",
              "      <td>0.020051</td>\n",
              "      <td>0.078866</td>\n",
              "      <td>0.012576</td>\n",
              "      <td>0.961280</td>\n",
              "      <td>0.978153</td>\n",
              "      <td>0.520056</td>\n",
              "      <td>0.789345</td>\n",
              "      <td>0.025689</td>\n",
              "      <td>0.017364</td>\n",
              "      <td>0.014463</td>\n",
              "      <td>0.020153</td>\n",
              "      <td>0.009751</td>\n",
              "      <td>0.008608</td>\n",
              "      <td>0.008528</td>\n",
              "      <td>0.645729</td>\n",
              "      <td>0.306448</td>\n",
              "      <td>0.203352</td>\n",
              "      <td>0.023530</td>\n",
              "      <td>0.508140</td>\n",
              "    </tr>\n",
              "    <tr>\n",
              "      <th>DepDel15</th>\n",
              "      <td>NaN</td>\n",
              "      <td>-0.020987</td>\n",
              "      <td>-0.018633</td>\n",
              "      <td>0.001518</td>\n",
              "      <td>-0.000653</td>\n",
              "      <td>0.165288</td>\n",
              "      <td>0.213740</td>\n",
              "      <td>0.582207</td>\n",
              "      <td>0.563300</td>\n",
              "      <td>1.000000</td>\n",
              "      <td>0.759163</td>\n",
              "      <td>0.075302</td>\n",
              "      <td>0.205828</td>\n",
              "      <td>0.095925</td>\n",
              "      <td>-0.001684</td>\n",
              "      <td>0.135006</td>\n",
              "      <td>0.085606</td>\n",
              "      <td>0.564985</td>\n",
              "      <td>0.519993</td>\n",
              "      <td>0.744596</td>\n",
              "      <td>0.696187</td>\n",
              "      <td>0.023169</td>\n",
              "      <td>0.017913</td>\n",
              "      <td>0.023440</td>\n",
              "      <td>0.029408</td>\n",
              "      <td>0.019813</td>\n",
              "      <td>0.020226</td>\n",
              "      <td>0.020250</td>\n",
              "      <td>0.152271</td>\n",
              "      <td>0.057642</td>\n",
              "      <td>-0.103343</td>\n",
              "      <td>0.012253</td>\n",
              "      <td>0.259702</td>\n",
              "    </tr>\n",
              "    <tr>\n",
              "      <th>DepartureDelayGroups</th>\n",
              "      <td>NaN</td>\n",
              "      <td>-0.020884</td>\n",
              "      <td>-0.019130</td>\n",
              "      <td>0.002965</td>\n",
              "      <td>-0.001027</td>\n",
              "      <td>0.137207</td>\n",
              "      <td>0.192266</td>\n",
              "      <td>0.852087</td>\n",
              "      <td>0.838494</td>\n",
              "      <td>0.759163</td>\n",
              "      <td>1.000000</td>\n",
              "      <td>0.081227</td>\n",
              "      <td>0.179578</td>\n",
              "      <td>0.056603</td>\n",
              "      <td>0.012559</td>\n",
              "      <td>0.117148</td>\n",
              "      <td>0.046547</td>\n",
              "      <td>0.824497</td>\n",
              "      <td>0.807247</td>\n",
              "      <td>0.683584</td>\n",
              "      <td>0.922151</td>\n",
              "      <td>0.030896</td>\n",
              "      <td>0.021265</td>\n",
              "      <td>0.026640</td>\n",
              "      <td>0.033783</td>\n",
              "      <td>0.022225</td>\n",
              "      <td>0.021266</td>\n",
              "      <td>0.021214</td>\n",
              "      <td>0.385989</td>\n",
              "      <td>0.178177</td>\n",
              "      <td>0.121244</td>\n",
              "      <td>0.019356</td>\n",
              "      <td>0.558907</td>\n",
              "    </tr>\n",
              "    <tr>\n",
              "      <th>TaxiOut</th>\n",
              "      <td>NaN</td>\n",
              "      <td>-0.020188</td>\n",
              "      <td>-0.020165</td>\n",
              "      <td>-0.000240</td>\n",
              "      <td>-0.018933</td>\n",
              "      <td>0.001504</td>\n",
              "      <td>0.011986</td>\n",
              "      <td>0.066767</td>\n",
              "      <td>0.065457</td>\n",
              "      <td>0.075302</td>\n",
              "      <td>0.081227</td>\n",
              "      <td>1.000000</td>\n",
              "      <td>0.038396</td>\n",
              "      <td>0.029618</td>\n",
              "      <td>0.021559</td>\n",
              "      <td>0.026180</td>\n",
              "      <td>0.026248</td>\n",
              "      <td>0.220687</td>\n",
              "      <td>0.180918</td>\n",
              "      <td>0.284719</td>\n",
              "      <td>0.282460</td>\n",
              "      <td>0.005092</td>\n",
              "      <td>0.014815</td>\n",
              "      <td>0.083801</td>\n",
              "      <td>0.194045</td>\n",
              "      <td>0.056216</td>\n",
              "      <td>0.039924</td>\n",
              "      <td>0.038555</td>\n",
              "      <td>-0.068197</td>\n",
              "      <td>0.027301</td>\n",
              "      <td>0.287225</td>\n",
              "      <td>-0.008231</td>\n",
              "      <td>-0.108344</td>\n",
              "    </tr>\n",
              "    <tr>\n",
              "      <th>WheelsOff</th>\n",
              "      <td>NaN</td>\n",
              "      <td>-0.003709</td>\n",
              "      <td>-0.003218</td>\n",
              "      <td>-0.001565</td>\n",
              "      <td>0.002039</td>\n",
              "      <td>0.929004</td>\n",
              "      <td>0.970380</td>\n",
              "      <td>0.119031</td>\n",
              "      <td>0.111910</td>\n",
              "      <td>0.205828</td>\n",
              "      <td>0.179578</td>\n",
              "      <td>0.038396</td>\n",
              "      <td>1.000000</td>\n",
              "      <td>0.671877</td>\n",
              "      <td>-0.035452</td>\n",
              "      <td>0.693089</td>\n",
              "      <td>0.640325</td>\n",
              "      <td>0.120237</td>\n",
              "      <td>0.105216</td>\n",
              "      <td>0.179838</td>\n",
              "      <td>0.169202</td>\n",
              "      <td>0.003650</td>\n",
              "      <td>0.002903</td>\n",
              "      <td>-0.030518</td>\n",
              "      <td>-0.025933</td>\n",
              "      <td>-0.028999</td>\n",
              "      <td>-0.027455</td>\n",
              "      <td>-0.028637</td>\n",
              "      <td>-0.065315</td>\n",
              "      <td>-0.027017</td>\n",
              "      <td>-0.013935</td>\n",
              "      <td>-0.002788</td>\n",
              "      <td>0.113365</td>\n",
              "    </tr>\n",
              "    <tr>\n",
              "      <th>WheelsOn</th>\n",
              "      <td>NaN</td>\n",
              "      <td>-0.009196</td>\n",
              "      <td>-0.009200</td>\n",
              "      <td>-0.002962</td>\n",
              "      <td>0.002120</td>\n",
              "      <td>0.625651</td>\n",
              "      <td>0.650660</td>\n",
              "      <td>0.025410</td>\n",
              "      <td>0.019479</td>\n",
              "      <td>0.095925</td>\n",
              "      <td>0.056603</td>\n",
              "      <td>0.029618</td>\n",
              "      <td>0.671877</td>\n",
              "      <td>1.000000</td>\n",
              "      <td>-0.001551</td>\n",
              "      <td>0.843193</td>\n",
              "      <td>0.963902</td>\n",
              "      <td>0.030289</td>\n",
              "      <td>0.018887</td>\n",
              "      <td>0.082122</td>\n",
              "      <td>0.055217</td>\n",
              "      <td>NaN</td>\n",
              "      <td>0.003381</td>\n",
              "      <td>0.007995</td>\n",
              "      <td>0.012033</td>\n",
              "      <td>0.008349</td>\n",
              "      <td>0.003510</td>\n",
              "      <td>0.006569</td>\n",
              "      <td>-0.071222</td>\n",
              "      <td>-0.025543</td>\n",
              "      <td>0.009485</td>\n",
              "      <td>-0.003283</td>\n",
              "      <td>-0.021985</td>\n",
              "    </tr>\n",
              "    <tr>\n",
              "      <th>TaxiIn</th>\n",
              "      <td>NaN</td>\n",
              "      <td>0.009791</td>\n",
              "      <td>0.009887</td>\n",
              "      <td>0.001268</td>\n",
              "      <td>0.006795</td>\n",
              "      <td>-0.041854</td>\n",
              "      <td>-0.037224</td>\n",
              "      <td>0.014813</td>\n",
              "      <td>0.020051</td>\n",
              "      <td>-0.001684</td>\n",
              "      <td>0.012559</td>\n",
              "      <td>0.021559</td>\n",
              "      <td>-0.035452</td>\n",
              "      <td>-0.001551</td>\n",
              "      <td>1.000000</td>\n",
              "      <td>-0.004766</td>\n",
              "      <td>0.002781</td>\n",
              "      <td>0.102853</td>\n",
              "      <td>0.082353</td>\n",
              "      <td>0.115947</td>\n",
              "      <td>0.126446</td>\n",
              "      <td>NaN</td>\n",
              "      <td>0.017415</td>\n",
              "      <td>0.107861</td>\n",
              "      <td>0.170271</td>\n",
              "      <td>0.084596</td>\n",
              "      <td>0.074764</td>\n",
              "      <td>0.072786</td>\n",
              "      <td>-0.042269</td>\n",
              "      <td>-0.003099</td>\n",
              "      <td>0.199890</td>\n",
              "      <td>-0.005237</td>\n",
              "      <td>-0.055781</td>\n",
              "    </tr>\n",
              "    <tr>\n",
              "      <th>CRSArrTime</th>\n",
              "      <td>NaN</td>\n",
              "      <td>-0.010532</td>\n",
              "      <td>-0.010770</td>\n",
              "      <td>-0.002121</td>\n",
              "      <td>0.003600</td>\n",
              "      <td>0.683573</td>\n",
              "      <td>0.683586</td>\n",
              "      <td>0.084275</td>\n",
              "      <td>0.078866</td>\n",
              "      <td>0.135006</td>\n",
              "      <td>0.117148</td>\n",
              "      <td>0.026180</td>\n",
              "      <td>0.693089</td>\n",
              "      <td>0.843193</td>\n",
              "      <td>-0.004766</td>\n",
              "      <td>1.000000</td>\n",
              "      <td>0.836419</td>\n",
              "      <td>0.082096</td>\n",
              "      <td>0.073744</td>\n",
              "      <td>0.118285</td>\n",
              "      <td>0.107412</td>\n",
              "      <td>0.012655</td>\n",
              "      <td>0.006323</td>\n",
              "      <td>0.014116</td>\n",
              "      <td>0.015632</td>\n",
              "      <td>0.012821</td>\n",
              "      <td>0.009122</td>\n",
              "      <td>0.012314</td>\n",
              "      <td>-0.054294</td>\n",
              "      <td>-0.000813</td>\n",
              "      <td>0.001804</td>\n",
              "      <td>-0.003707</td>\n",
              "      <td>0.090300</td>\n",
              "    </tr>\n",
              "    <tr>\n",
              "      <th>ArrTime</th>\n",
              "      <td>NaN</td>\n",
              "      <td>-0.009261</td>\n",
              "      <td>-0.009336</td>\n",
              "      <td>-0.002903</td>\n",
              "      <td>0.002126</td>\n",
              "      <td>0.595320</td>\n",
              "      <td>0.619364</td>\n",
              "      <td>0.018065</td>\n",
              "      <td>0.012576</td>\n",
              "      <td>0.085606</td>\n",
              "      <td>0.046547</td>\n",
              "      <td>0.026248</td>\n",
              "      <td>0.640325</td>\n",
              "      <td>0.963902</td>\n",
              "      <td>0.002781</td>\n",
              "      <td>0.836419</td>\n",
              "      <td>1.000000</td>\n",
              "      <td>0.022530</td>\n",
              "      <td>0.011871</td>\n",
              "      <td>0.072564</td>\n",
              "      <td>0.045094</td>\n",
              "      <td>NaN</td>\n",
              "      <td>0.002452</td>\n",
              "      <td>0.005912</td>\n",
              "      <td>0.009460</td>\n",
              "      <td>0.005786</td>\n",
              "      <td>0.000394</td>\n",
              "      <td>0.003338</td>\n",
              "      <td>-0.068727</td>\n",
              "      <td>-0.024794</td>\n",
              "      <td>0.007463</td>\n",
              "      <td>-0.003073</td>\n",
              "      <td>-0.028143</td>\n",
              "    </tr>\n",
              "    <tr>\n",
              "      <th>ArrDelay</th>\n",
              "      <td>NaN</td>\n",
              "      <td>-0.021498</td>\n",
              "      <td>-0.020403</td>\n",
              "      <td>0.001180</td>\n",
              "      <td>-0.002702</td>\n",
              "      <td>0.093351</td>\n",
              "      <td>0.124973</td>\n",
              "      <td>0.963505</td>\n",
              "      <td>0.961280</td>\n",
              "      <td>0.564985</td>\n",
              "      <td>0.824497</td>\n",
              "      <td>0.220687</td>\n",
              "      <td>0.120237</td>\n",
              "      <td>0.030289</td>\n",
              "      <td>0.102853</td>\n",
              "      <td>0.082096</td>\n",
              "      <td>0.022530</td>\n",
              "      <td>1.000000</td>\n",
              "      <td>0.983974</td>\n",
              "      <td>0.605497</td>\n",
              "      <td>0.866191</td>\n",
              "      <td>NaN</td>\n",
              "      <td>NaN</td>\n",
              "      <td>-0.005386</td>\n",
              "      <td>0.050539</td>\n",
              "      <td>0.011751</td>\n",
              "      <td>-0.006750</td>\n",
              "      <td>-0.006864</td>\n",
              "      <td>0.638733</td>\n",
              "      <td>0.317463</td>\n",
              "      <td>0.295673</td>\n",
              "      <td>0.022206</td>\n",
              "      <td>0.482611</td>\n",
              "    </tr>\n",
              "    <tr>\n",
              "      <th>ArrDelayMinutes</th>\n",
              "      <td>NaN</td>\n",
              "      <td>-0.018875</td>\n",
              "      <td>-0.018191</td>\n",
              "      <td>0.001778</td>\n",
              "      <td>-0.001307</td>\n",
              "      <td>0.082713</td>\n",
              "      <td>0.111338</td>\n",
              "      <td>0.974480</td>\n",
              "      <td>0.978153</td>\n",
              "      <td>0.519993</td>\n",
              "      <td>0.807247</td>\n",
              "      <td>0.180918</td>\n",
              "      <td>0.105216</td>\n",
              "      <td>0.018887</td>\n",
              "      <td>0.082353</td>\n",
              "      <td>0.073744</td>\n",
              "      <td>0.011871</td>\n",
              "      <td>0.983974</td>\n",
              "      <td>1.000000</td>\n",
              "      <td>0.559670</td>\n",
              "      <td>0.819901</td>\n",
              "      <td>NaN</td>\n",
              "      <td>NaN</td>\n",
              "      <td>0.012014</td>\n",
              "      <td>0.049274</td>\n",
              "      <td>0.017876</td>\n",
              "      <td>0.005558</td>\n",
              "      <td>0.005454</td>\n",
              "      <td>0.638733</td>\n",
              "      <td>0.317463</td>\n",
              "      <td>0.295673</td>\n",
              "      <td>0.022206</td>\n",
              "      <td>0.482611</td>\n",
              "    </tr>\n",
              "    <tr>\n",
              "      <th>ArrDel15</th>\n",
              "      <td>NaN</td>\n",
              "      <td>-0.026449</td>\n",
              "      <td>-0.024522</td>\n",
              "      <td>0.001154</td>\n",
              "      <td>-0.003249</td>\n",
              "      <td>0.136379</td>\n",
              "      <td>0.180332</td>\n",
              "      <td>0.535807</td>\n",
              "      <td>0.520056</td>\n",
              "      <td>0.744596</td>\n",
              "      <td>0.683584</td>\n",
              "      <td>0.284719</td>\n",
              "      <td>0.179838</td>\n",
              "      <td>0.082122</td>\n",
              "      <td>0.115947</td>\n",
              "      <td>0.118285</td>\n",
              "      <td>0.072564</td>\n",
              "      <td>0.605497</td>\n",
              "      <td>0.559670</td>\n",
              "      <td>1.000000</td>\n",
              "      <td>0.762873</td>\n",
              "      <td>NaN</td>\n",
              "      <td>NaN</td>\n",
              "      <td>0.025228</td>\n",
              "      <td>0.091025</td>\n",
              "      <td>0.043199</td>\n",
              "      <td>0.020008</td>\n",
              "      <td>0.019839</td>\n",
              "      <td>NaN</td>\n",
              "      <td>NaN</td>\n",
              "      <td>NaN</td>\n",
              "      <td>NaN</td>\n",
              "      <td>NaN</td>\n",
              "    </tr>\n",
              "    <tr>\n",
              "      <th>ArrivalDelayGroups</th>\n",
              "      <td>NaN</td>\n",
              "      <td>-0.027541</td>\n",
              "      <td>-0.025963</td>\n",
              "      <td>0.001186</td>\n",
              "      <td>-0.004358</td>\n",
              "      <td>0.121697</td>\n",
              "      <td>0.174304</td>\n",
              "      <td>0.800920</td>\n",
              "      <td>0.789345</td>\n",
              "      <td>0.696187</td>\n",
              "      <td>0.922151</td>\n",
              "      <td>0.282460</td>\n",
              "      <td>0.169202</td>\n",
              "      <td>0.055217</td>\n",
              "      <td>0.126446</td>\n",
              "      <td>0.107412</td>\n",
              "      <td>0.045094</td>\n",
              "      <td>0.866191</td>\n",
              "      <td>0.819901</td>\n",
              "      <td>0.762873</td>\n",
              "      <td>1.000000</td>\n",
              "      <td>NaN</td>\n",
              "      <td>NaN</td>\n",
              "      <td>0.000232</td>\n",
              "      <td>0.071277</td>\n",
              "      <td>0.022278</td>\n",
              "      <td>-0.001650</td>\n",
              "      <td>-0.001818</td>\n",
              "      <td>0.379185</td>\n",
              "      <td>0.192116</td>\n",
              "      <td>0.271172</td>\n",
              "      <td>0.017696</td>\n",
              "      <td>0.536709</td>\n",
              "    </tr>\n",
              "    <tr>\n",
              "      <th>Cancelled</th>\n",
              "      <td>NaN</td>\n",
              "      <td>-0.045986</td>\n",
              "      <td>-0.047177</td>\n",
              "      <td>0.009042</td>\n",
              "      <td>-0.006883</td>\n",
              "      <td>0.016146</td>\n",
              "      <td>0.009225</td>\n",
              "      <td>0.025973</td>\n",
              "      <td>0.025689</td>\n",
              "      <td>0.023169</td>\n",
              "      <td>0.030896</td>\n",
              "      <td>0.005092</td>\n",
              "      <td>0.003650</td>\n",
              "      <td>NaN</td>\n",
              "      <td>NaN</td>\n",
              "      <td>0.012655</td>\n",
              "      <td>NaN</td>\n",
              "      <td>NaN</td>\n",
              "      <td>NaN</td>\n",
              "      <td>NaN</td>\n",
              "      <td>NaN</td>\n",
              "      <td>1.000000</td>\n",
              "      <td>-0.006872</td>\n",
              "      <td>-0.027826</td>\n",
              "      <td>NaN</td>\n",
              "      <td>NaN</td>\n",
              "      <td>-0.031824</td>\n",
              "      <td>-0.032024</td>\n",
              "      <td>NaN</td>\n",
              "      <td>NaN</td>\n",
              "      <td>NaN</td>\n",
              "      <td>NaN</td>\n",
              "      <td>NaN</td>\n",
              "    </tr>\n",
              "    <tr>\n",
              "      <th>Diverted</th>\n",
              "      <td>NaN</td>\n",
              "      <td>-0.003699</td>\n",
              "      <td>-0.003743</td>\n",
              "      <td>0.000826</td>\n",
              "      <td>0.002243</td>\n",
              "      <td>0.000916</td>\n",
              "      <td>0.002827</td>\n",
              "      <td>0.017937</td>\n",
              "      <td>0.017364</td>\n",
              "      <td>0.017913</td>\n",
              "      <td>0.021265</td>\n",
              "      <td>0.014815</td>\n",
              "      <td>0.002903</td>\n",
              "      <td>0.003381</td>\n",
              "      <td>0.017415</td>\n",
              "      <td>0.006323</td>\n",
              "      <td>0.002452</td>\n",
              "      <td>NaN</td>\n",
              "      <td>NaN</td>\n",
              "      <td>NaN</td>\n",
              "      <td>NaN</td>\n",
              "      <td>-0.006872</td>\n",
              "      <td>1.000000</td>\n",
              "      <td>0.014924</td>\n",
              "      <td>NaN</td>\n",
              "      <td>NaN</td>\n",
              "      <td>0.013403</td>\n",
              "      <td>0.013402</td>\n",
              "      <td>NaN</td>\n",
              "      <td>NaN</td>\n",
              "      <td>NaN</td>\n",
              "      <td>NaN</td>\n",
              "      <td>NaN</td>\n",
              "    </tr>\n",
              "    <tr>\n",
              "      <th>CRSElapsedTime</th>\n",
              "      <td>NaN</td>\n",
              "      <td>-0.007084</td>\n",
              "      <td>-0.006243</td>\n",
              "      <td>0.002701</td>\n",
              "      <td>0.012035</td>\n",
              "      <td>-0.019527</td>\n",
              "      <td>-0.022660</td>\n",
              "      <td>0.019050</td>\n",
              "      <td>0.014463</td>\n",
              "      <td>0.023440</td>\n",
              "      <td>0.026640</td>\n",
              "      <td>0.083801</td>\n",
              "      <td>-0.030518</td>\n",
              "      <td>0.007995</td>\n",
              "      <td>0.107861</td>\n",
              "      <td>0.014116</td>\n",
              "      <td>0.005912</td>\n",
              "      <td>-0.005386</td>\n",
              "      <td>0.012014</td>\n",
              "      <td>0.025228</td>\n",
              "      <td>0.000232</td>\n",
              "      <td>-0.027826</td>\n",
              "      <td>0.014924</td>\n",
              "      <td>1.000000</td>\n",
              "      <td>0.982227</td>\n",
              "      <td>0.989481</td>\n",
              "      <td>0.982542</td>\n",
              "      <td>0.971435</td>\n",
              "      <td>0.006666</td>\n",
              "      <td>-0.014240</td>\n",
              "      <td>0.042241</td>\n",
              "      <td>0.007396</td>\n",
              "      <td>-0.046298</td>\n",
              "    </tr>\n",
              "    <tr>\n",
              "      <th>ActualElapsedTime</th>\n",
              "      <td>NaN</td>\n",
              "      <td>-0.012462</td>\n",
              "      <td>-0.011678</td>\n",
              "      <td>0.002329</td>\n",
              "      <td>0.009861</td>\n",
              "      <td>-0.019208</td>\n",
              "      <td>-0.021384</td>\n",
              "      <td>0.024560</td>\n",
              "      <td>0.020153</td>\n",
              "      <td>0.029408</td>\n",
              "      <td>0.033783</td>\n",
              "      <td>0.194045</td>\n",
              "      <td>-0.025933</td>\n",
              "      <td>0.012033</td>\n",
              "      <td>0.170271</td>\n",
              "      <td>0.015632</td>\n",
              "      <td>0.009460</td>\n",
              "      <td>0.050539</td>\n",
              "      <td>0.049274</td>\n",
              "      <td>0.091025</td>\n",
              "      <td>0.071277</td>\n",
              "      <td>NaN</td>\n",
              "      <td>NaN</td>\n",
              "      <td>0.982227</td>\n",
              "      <td>1.000000</td>\n",
              "      <td>0.986683</td>\n",
              "      <td>0.967414</td>\n",
              "      <td>0.956319</td>\n",
              "      <td>-0.024974</td>\n",
              "      <td>-0.011403</td>\n",
              "      <td>0.143585</td>\n",
              "      <td>0.004561</td>\n",
              "      <td>-0.093935</td>\n",
              "    </tr>\n",
              "    <tr>\n",
              "      <th>AirTime</th>\n",
              "      <td>NaN</td>\n",
              "      <td>-0.010845</td>\n",
              "      <td>-0.010051</td>\n",
              "      <td>0.002329</td>\n",
              "      <td>0.012250</td>\n",
              "      <td>-0.016306</td>\n",
              "      <td>-0.020423</td>\n",
              "      <td>0.014564</td>\n",
              "      <td>0.009751</td>\n",
              "      <td>0.019813</td>\n",
              "      <td>0.022225</td>\n",
              "      <td>0.056216</td>\n",
              "      <td>-0.028999</td>\n",
              "      <td>0.008349</td>\n",
              "      <td>0.084596</td>\n",
              "      <td>0.012821</td>\n",
              "      <td>0.005786</td>\n",
              "      <td>0.011751</td>\n",
              "      <td>0.017876</td>\n",
              "      <td>0.043199</td>\n",
              "      <td>0.022278</td>\n",
              "      <td>NaN</td>\n",
              "      <td>NaN</td>\n",
              "      <td>0.989481</td>\n",
              "      <td>0.986683</td>\n",
              "      <td>1.000000</td>\n",
              "      <td>0.983359</td>\n",
              "      <td>0.972309</td>\n",
              "      <td>-0.005364</td>\n",
              "      <td>-0.017667</td>\n",
              "      <td>0.059970</td>\n",
              "      <td>0.007305</td>\n",
              "      <td>-0.066830</td>\n",
              "    </tr>\n",
              "    <tr>\n",
              "      <th>Distance</th>\n",
              "      <td>NaN</td>\n",
              "      <td>-0.001430</td>\n",
              "      <td>-0.000789</td>\n",
              "      <td>0.002441</td>\n",
              "      <td>0.014111</td>\n",
              "      <td>-0.010483</td>\n",
              "      <td>-0.016014</td>\n",
              "      <td>0.013826</td>\n",
              "      <td>0.008608</td>\n",
              "      <td>0.020226</td>\n",
              "      <td>0.021266</td>\n",
              "      <td>0.039924</td>\n",
              "      <td>-0.027455</td>\n",
              "      <td>0.003510</td>\n",
              "      <td>0.074764</td>\n",
              "      <td>0.009122</td>\n",
              "      <td>0.000394</td>\n",
              "      <td>-0.006750</td>\n",
              "      <td>0.005558</td>\n",
              "      <td>0.020008</td>\n",
              "      <td>-0.001650</td>\n",
              "      <td>-0.031824</td>\n",
              "      <td>0.013403</td>\n",
              "      <td>0.982542</td>\n",
              "      <td>0.967414</td>\n",
              "      <td>0.983359</td>\n",
              "      <td>1.000000</td>\n",
              "      <td>0.987447</td>\n",
              "      <td>0.007645</td>\n",
              "      <td>-0.018172</td>\n",
              "      <td>0.024187</td>\n",
              "      <td>0.009059</td>\n",
              "      <td>-0.049229</td>\n",
              "    </tr>\n",
              "    <tr>\n",
              "      <th>DistanceGroup</th>\n",
              "      <td>NaN</td>\n",
              "      <td>-0.001441</td>\n",
              "      <td>-0.000820</td>\n",
              "      <td>0.002387</td>\n",
              "      <td>0.014063</td>\n",
              "      <td>-0.011529</td>\n",
              "      <td>-0.017042</td>\n",
              "      <td>0.013696</td>\n",
              "      <td>0.008528</td>\n",
              "      <td>0.020250</td>\n",
              "      <td>0.021214</td>\n",
              "      <td>0.038555</td>\n",
              "      <td>-0.028637</td>\n",
              "      <td>0.006569</td>\n",
              "      <td>0.072786</td>\n",
              "      <td>0.012314</td>\n",
              "      <td>0.003338</td>\n",
              "      <td>-0.006864</td>\n",
              "      <td>0.005454</td>\n",
              "      <td>0.019839</td>\n",
              "      <td>-0.001818</td>\n",
              "      <td>-0.032024</td>\n",
              "      <td>0.013402</td>\n",
              "      <td>0.971435</td>\n",
              "      <td>0.956319</td>\n",
              "      <td>0.972309</td>\n",
              "      <td>0.987447</td>\n",
              "      <td>1.000000</td>\n",
              "      <td>0.007184</td>\n",
              "      <td>-0.018224</td>\n",
              "      <td>0.024691</td>\n",
              "      <td>0.008250</td>\n",
              "      <td>-0.048833</td>\n",
              "    </tr>\n",
              "    <tr>\n",
              "      <th>CarrierDelay</th>\n",
              "      <td>NaN</td>\n",
              "      <td>0.001062</td>\n",
              "      <td>0.001000</td>\n",
              "      <td>-0.000805</td>\n",
              "      <td>0.011140</td>\n",
              "      <td>-0.053511</td>\n",
              "      <td>-0.057970</td>\n",
              "      <td>0.644940</td>\n",
              "      <td>0.645729</td>\n",
              "      <td>0.152271</td>\n",
              "      <td>0.385989</td>\n",
              "      <td>-0.068197</td>\n",
              "      <td>-0.065315</td>\n",
              "      <td>-0.071222</td>\n",
              "      <td>-0.042269</td>\n",
              "      <td>-0.054294</td>\n",
              "      <td>-0.068727</td>\n",
              "      <td>0.638733</td>\n",
              "      <td>0.638733</td>\n",
              "      <td>NaN</td>\n",
              "      <td>0.379185</td>\n",
              "      <td>NaN</td>\n",
              "      <td>NaN</td>\n",
              "      <td>0.006666</td>\n",
              "      <td>-0.024974</td>\n",
              "      <td>-0.005364</td>\n",
              "      <td>0.007645</td>\n",
              "      <td>0.007184</td>\n",
              "      <td>1.000000</td>\n",
              "      <td>-0.033939</td>\n",
              "      <td>-0.091925</td>\n",
              "      <td>-0.008085</td>\n",
              "      <td>-0.070794</td>\n",
              "    </tr>\n",
              "    <tr>\n",
              "      <th>WeatherDelay</th>\n",
              "      <td>NaN</td>\n",
              "      <td>-0.012515</td>\n",
              "      <td>-0.014576</td>\n",
              "      <td>0.002652</td>\n",
              "      <td>0.004843</td>\n",
              "      <td>-0.003581</td>\n",
              "      <td>-0.026067</td>\n",
              "      <td>0.305893</td>\n",
              "      <td>0.306448</td>\n",
              "      <td>0.057642</td>\n",
              "      <td>0.178177</td>\n",
              "      <td>0.027301</td>\n",
              "      <td>-0.027017</td>\n",
              "      <td>-0.025543</td>\n",
              "      <td>-0.003099</td>\n",
              "      <td>-0.000813</td>\n",
              "      <td>-0.024794</td>\n",
              "      <td>0.317463</td>\n",
              "      <td>0.317463</td>\n",
              "      <td>NaN</td>\n",
              "      <td>0.192116</td>\n",
              "      <td>NaN</td>\n",
              "      <td>NaN</td>\n",
              "      <td>-0.014240</td>\n",
              "      <td>-0.011403</td>\n",
              "      <td>-0.017667</td>\n",
              "      <td>-0.018172</td>\n",
              "      <td>-0.018224</td>\n",
              "      <td>-0.033939</td>\n",
              "      <td>1.000000</td>\n",
              "      <td>-0.016212</td>\n",
              "      <td>-0.002563</td>\n",
              "      <td>-0.016181</td>\n",
              "    </tr>\n",
              "    <tr>\n",
              "      <th>NASDelay</th>\n",
              "      <td>NaN</td>\n",
              "      <td>-0.007644</td>\n",
              "      <td>-0.010293</td>\n",
              "      <td>0.007097</td>\n",
              "      <td>-0.013017</td>\n",
              "      <td>-0.048808</td>\n",
              "      <td>-0.027923</td>\n",
              "      <td>0.201179</td>\n",
              "      <td>0.203352</td>\n",
              "      <td>-0.103343</td>\n",
              "      <td>0.121244</td>\n",
              "      <td>0.287225</td>\n",
              "      <td>-0.013935</td>\n",
              "      <td>0.009485</td>\n",
              "      <td>0.199890</td>\n",
              "      <td>0.001804</td>\n",
              "      <td>0.007463</td>\n",
              "      <td>0.295673</td>\n",
              "      <td>0.295673</td>\n",
              "      <td>NaN</td>\n",
              "      <td>0.271172</td>\n",
              "      <td>NaN</td>\n",
              "      <td>NaN</td>\n",
              "      <td>0.042241</td>\n",
              "      <td>0.143585</td>\n",
              "      <td>0.059970</td>\n",
              "      <td>0.024187</td>\n",
              "      <td>0.024691</td>\n",
              "      <td>-0.091925</td>\n",
              "      <td>-0.016212</td>\n",
              "      <td>1.000000</td>\n",
              "      <td>-0.008478</td>\n",
              "      <td>-0.119631</td>\n",
              "    </tr>\n",
              "    <tr>\n",
              "      <th>SecurityDelay</th>\n",
              "      <td>NaN</td>\n",
              "      <td>-0.003331</td>\n",
              "      <td>-0.002341</td>\n",
              "      <td>-0.005192</td>\n",
              "      <td>0.004920</td>\n",
              "      <td>-0.006023</td>\n",
              "      <td>-0.002186</td>\n",
              "      <td>0.023587</td>\n",
              "      <td>0.023530</td>\n",
              "      <td>0.012253</td>\n",
              "      <td>0.019356</td>\n",
              "      <td>-0.008231</td>\n",
              "      <td>-0.002788</td>\n",
              "      <td>-0.003283</td>\n",
              "      <td>-0.005237</td>\n",
              "      <td>-0.003707</td>\n",
              "      <td>-0.003073</td>\n",
              "      <td>0.022206</td>\n",
              "      <td>0.022206</td>\n",
              "      <td>NaN</td>\n",
              "      <td>0.017696</td>\n",
              "      <td>NaN</td>\n",
              "      <td>NaN</td>\n",
              "      <td>0.007396</td>\n",
              "      <td>0.004561</td>\n",
              "      <td>0.007305</td>\n",
              "      <td>0.009059</td>\n",
              "      <td>0.008250</td>\n",
              "      <td>-0.008085</td>\n",
              "      <td>-0.002563</td>\n",
              "      <td>-0.008478</td>\n",
              "      <td>1.000000</td>\n",
              "      <td>-0.007556</td>\n",
              "    </tr>\n",
              "    <tr>\n",
              "      <th>LateAircraftDelay</th>\n",
              "      <td>NaN</td>\n",
              "      <td>-0.003503</td>\n",
              "      <td>-0.002578</td>\n",
              "      <td>-0.000164</td>\n",
              "      <td>-0.004659</td>\n",
              "      <td>0.123247</td>\n",
              "      <td>0.142550</td>\n",
              "      <td>0.508841</td>\n",
              "      <td>0.508140</td>\n",
              "      <td>0.259702</td>\n",
              "      <td>0.558907</td>\n",
              "      <td>-0.108344</td>\n",
              "      <td>0.113365</td>\n",
              "      <td>-0.021985</td>\n",
              "      <td>-0.055781</td>\n",
              "      <td>0.090300</td>\n",
              "      <td>-0.028143</td>\n",
              "      <td>0.482611</td>\n",
              "      <td>0.482611</td>\n",
              "      <td>NaN</td>\n",
              "      <td>0.536709</td>\n",
              "      <td>NaN</td>\n",
              "      <td>NaN</td>\n",
              "      <td>-0.046298</td>\n",
              "      <td>-0.093935</td>\n",
              "      <td>-0.066830</td>\n",
              "      <td>-0.049229</td>\n",
              "      <td>-0.048833</td>\n",
              "      <td>-0.070794</td>\n",
              "      <td>-0.016181</td>\n",
              "      <td>-0.119631</td>\n",
              "      <td>-0.007556</td>\n",
              "      <td>1.000000</td>\n",
              "    </tr>\n",
              "  </tbody>\n",
              "</table>\n",
              "</div>"
            ],
            "text/plain": [
              "                      Year   Quarter  ...  SecurityDelay  LateAircraftDelay\n",
              "Year                   NaN       NaN  ...            NaN                NaN\n",
              "Quarter                NaN  1.000000  ...      -0.003331          -0.003503\n",
              "Month                  NaN  0.970532  ...      -0.002341          -0.002578\n",
              "DayofMonth             NaN  0.005507  ...      -0.005192          -0.000164\n",
              "DayOfWeek              NaN -0.005224  ...       0.004920          -0.004659\n",
              "CRSDepTime             NaN -0.000297  ...      -0.006023           0.123247\n",
              "DepTime                NaN -0.002841  ...      -0.002186           0.142550\n",
              "DepDelay               NaN -0.016102  ...       0.023587           0.508841\n",
              "DepDelayMinutes        NaN -0.016202  ...       0.023530           0.508140\n",
              "DepDel15               NaN -0.020987  ...       0.012253           0.259702\n",
              "DepartureDelayGroups   NaN -0.020884  ...       0.019356           0.558907\n",
              "TaxiOut                NaN -0.020188  ...      -0.008231          -0.108344\n",
              "WheelsOff              NaN -0.003709  ...      -0.002788           0.113365\n",
              "WheelsOn               NaN -0.009196  ...      -0.003283          -0.021985\n",
              "TaxiIn                 NaN  0.009791  ...      -0.005237          -0.055781\n",
              "CRSArrTime             NaN -0.010532  ...      -0.003707           0.090300\n",
              "ArrTime                NaN -0.009261  ...      -0.003073          -0.028143\n",
              "ArrDelay               NaN -0.021498  ...       0.022206           0.482611\n",
              "ArrDelayMinutes        NaN -0.018875  ...       0.022206           0.482611\n",
              "ArrDel15               NaN -0.026449  ...            NaN                NaN\n",
              "ArrivalDelayGroups     NaN -0.027541  ...       0.017696           0.536709\n",
              "Cancelled              NaN -0.045986  ...            NaN                NaN\n",
              "Diverted               NaN -0.003699  ...            NaN                NaN\n",
              "CRSElapsedTime         NaN -0.007084  ...       0.007396          -0.046298\n",
              "ActualElapsedTime      NaN -0.012462  ...       0.004561          -0.093935\n",
              "AirTime                NaN -0.010845  ...       0.007305          -0.066830\n",
              "Distance               NaN -0.001430  ...       0.009059          -0.049229\n",
              "DistanceGroup          NaN -0.001441  ...       0.008250          -0.048833\n",
              "CarrierDelay           NaN  0.001062  ...      -0.008085          -0.070794\n",
              "WeatherDelay           NaN -0.012515  ...      -0.002563          -0.016181\n",
              "NASDelay               NaN -0.007644  ...      -0.008478          -0.119631\n",
              "SecurityDelay          NaN -0.003331  ...       1.000000          -0.007556\n",
              "LateAircraftDelay      NaN -0.003503  ...      -0.007556           1.000000\n",
              "\n",
              "[33 rows x 33 columns]"
            ]
          },
          "metadata": {
            "tags": []
          },
          "execution_count": 32
        }
      ]
    },
    {
      "cell_type": "code",
      "metadata": {
        "id": "b8q0Y54R4Usv",
        "outputId": "a25d951f-d733-4467-8c52-ca1ab61192fd",
        "colab": {
          "base_uri": "https://localhost:8080/"
        }
      },
      "source": [
        "# # Looking into whether Departure Delay is strongly linked to arrival delay...\n",
        "# #let's see which aircraft(airline) managed to reduce the arrival delay from departure delay...\n",
        "\n",
        "# #Plotting statistics of the DepartureDelayGroups\n",
        "# df_delay = pd.DataFrame({})\n",
        "# df_delay['DepartureDelayGroups'] = df['DepartureDelayGroups'].apply(lambda x : (15*x,15*(x+1)))\n",
        "# print(\"DONE*************\")\n",
        "# #df_delay['ArrivalDelayGroups'] = df['ArrivalDelayGroups'].apply(lambda x : (15*x,15*(x+1)))\n",
        "# print(\"DONE*************\")\n",
        "# plt.figure(figsize=(12,6))\n",
        "# ax=sns.countplot(x='DepartureDelayGroups',data=df_delay,palette='pastel')\n",
        "# ax.yaxis.set_major_formatter(ticker.EngFormatter())\n",
        "# plt.xlabel(\"Departure Delay Time Block\")\n",
        "# plt.ylabel(\"Number of flights\")\n",
        "# plt.title(\"Number of flights per Departure Delay Time Block\");\n",
        "\n",
        "# # plt.figure(figsize=(12,6))\n",
        "# # sns.countplot(x='ArrivalDelayGroups',data=df_delay,palette='pastel')\n",
        "# # ax.yaxis.set_major_formatter(ticker.EngFormatter())\n",
        "# # plt.xlabel(\"Arrival Delay Time Block\")\n",
        "# # plt.ylabel(\"Number of flights\")\n",
        "# # plt.title(\"Number of flights per Arrival Delay Time Block\");"
      ],
      "execution_count": null,
      "outputs": [
        {
          "output_type": "stream",
          "text": [
            "DONE*************\n",
            "DONE*************\n"
          ],
          "name": "stdout"
        }
      ]
    },
    {
      "cell_type": "code",
      "metadata": {
        "id": "p9KwmBTFBaPT",
        "outputId": "476cdba1-7304-475a-d7fd-42948d7bdd23",
        "colab": {
          "base_uri": "https://localhost:8080/",
          "height": 580
        }
      },
      "source": [
        "#Airlines with the highest Carrier Delay ....\n",
        "\n",
        "df.loc[df['CarrierDelay'].isna()==False].groupby(by='Reporting_Airline')[['DepDelayMinutes','ArrDelayMinutes','CarrierDelay']].mean().sort_values(by='CarrierDelay',ascending=False).rename(dict(zip(['DepDelayMinutes',\t'ArrDelayMinutes',\t'CarrierDelay'],['Departure Delay','Arrival Delay','Carrier Delay'])),axis=1)"
      ],
      "execution_count": 10,
      "outputs": [
        {
          "output_type": "execute_result",
          "data": {
            "text/html": [
              "<div>\n",
              "<style scoped>\n",
              "    .dataframe tbody tr th:only-of-type {\n",
              "        vertical-align: middle;\n",
              "    }\n",
              "\n",
              "    .dataframe tbody tr th {\n",
              "        vertical-align: top;\n",
              "    }\n",
              "\n",
              "    .dataframe thead th {\n",
              "        text-align: right;\n",
              "    }\n",
              "</style>\n",
              "<table border=\"1\" class=\"dataframe\">\n",
              "  <thead>\n",
              "    <tr style=\"text-align: right;\">\n",
              "      <th></th>\n",
              "      <th>Departure Delay</th>\n",
              "      <th>Arrival Delay</th>\n",
              "      <th>Carrier Delay</th>\n",
              "    </tr>\n",
              "    <tr>\n",
              "      <th>Reporting_Airline</th>\n",
              "      <th></th>\n",
              "      <th></th>\n",
              "      <th></th>\n",
              "    </tr>\n",
              "  </thead>\n",
              "  <tbody>\n",
              "    <tr>\n",
              "      <th>OO</th>\n",
              "      <td>80.929611</td>\n",
              "      <td>84.621803</td>\n",
              "      <td>30.036854</td>\n",
              "    </tr>\n",
              "    <tr>\n",
              "      <th>B6</th>\n",
              "      <td>79.007133</td>\n",
              "      <td>81.274399</td>\n",
              "      <td>27.614935</td>\n",
              "    </tr>\n",
              "    <tr>\n",
              "      <th>YV</th>\n",
              "      <td>77.544250</td>\n",
              "      <td>80.978493</td>\n",
              "      <td>27.319139</td>\n",
              "    </tr>\n",
              "    <tr>\n",
              "      <th>EV</th>\n",
              "      <td>80.461426</td>\n",
              "      <td>87.124336</td>\n",
              "      <td>26.886286</td>\n",
              "    </tr>\n",
              "    <tr>\n",
              "      <th>HA</th>\n",
              "      <td>32.670460</td>\n",
              "      <td>40.254776</td>\n",
              "      <td>25.873865</td>\n",
              "    </tr>\n",
              "    <tr>\n",
              "      <th>G4</th>\n",
              "      <td>64.683578</td>\n",
              "      <td>69.900932</td>\n",
              "      <td>25.243767</td>\n",
              "    </tr>\n",
              "    <tr>\n",
              "      <th>DL</th>\n",
              "      <td>63.567329</td>\n",
              "      <td>68.335899</td>\n",
              "      <td>24.438005</td>\n",
              "    </tr>\n",
              "    <tr>\n",
              "      <th>AA</th>\n",
              "      <td>62.185986</td>\n",
              "      <td>67.128937</td>\n",
              "      <td>22.366356</td>\n",
              "    </tr>\n",
              "    <tr>\n",
              "      <th>9E</th>\n",
              "      <td>75.338348</td>\n",
              "      <td>79.479523</td>\n",
              "      <td>20.529898</td>\n",
              "    </tr>\n",
              "    <tr>\n",
              "      <th>F9</th>\n",
              "      <td>66.170074</td>\n",
              "      <td>68.439377</td>\n",
              "      <td>18.132425</td>\n",
              "    </tr>\n",
              "    <tr>\n",
              "      <th>OH</th>\n",
              "      <td>65.520393</td>\n",
              "      <td>68.389610</td>\n",
              "      <td>17.920721</td>\n",
              "    </tr>\n",
              "    <tr>\n",
              "      <th>WN</th>\n",
              "      <td>52.506695</td>\n",
              "      <td>51.893162</td>\n",
              "      <td>17.608948</td>\n",
              "    </tr>\n",
              "    <tr>\n",
              "      <th>UA</th>\n",
              "      <td>70.192474</td>\n",
              "      <td>75.625313</td>\n",
              "      <td>16.177855</td>\n",
              "    </tr>\n",
              "    <tr>\n",
              "      <th>NK</th>\n",
              "      <td>67.127213</td>\n",
              "      <td>69.888084</td>\n",
              "      <td>15.310907</td>\n",
              "    </tr>\n",
              "    <tr>\n",
              "      <th>MQ</th>\n",
              "      <td>56.801861</td>\n",
              "      <td>65.052841</td>\n",
              "      <td>15.142703</td>\n",
              "    </tr>\n",
              "    <tr>\n",
              "      <th>AS</th>\n",
              "      <td>44.579952</td>\n",
              "      <td>51.981182</td>\n",
              "      <td>14.104654</td>\n",
              "    </tr>\n",
              "    <tr>\n",
              "      <th>YX</th>\n",
              "      <td>61.147736</td>\n",
              "      <td>69.616348</td>\n",
              "      <td>14.052395</td>\n",
              "    </tr>\n",
              "  </tbody>\n",
              "</table>\n",
              "</div>"
            ],
            "text/plain": [
              "                   Departure Delay  Arrival Delay  Carrier Delay\n",
              "Reporting_Airline                                               \n",
              "OO                       80.929611      84.621803      30.036854\n",
              "B6                       79.007133      81.274399      27.614935\n",
              "YV                       77.544250      80.978493      27.319139\n",
              "EV                       80.461426      87.124336      26.886286\n",
              "HA                       32.670460      40.254776      25.873865\n",
              "G4                       64.683578      69.900932      25.243767\n",
              "DL                       63.567329      68.335899      24.438005\n",
              "AA                       62.185986      67.128937      22.366356\n",
              "9E                       75.338348      79.479523      20.529898\n",
              "F9                       66.170074      68.439377      18.132425\n",
              "OH                       65.520393      68.389610      17.920721\n",
              "WN                       52.506695      51.893162      17.608948\n",
              "UA                       70.192474      75.625313      16.177855\n",
              "NK                       67.127213      69.888084      15.310907\n",
              "MQ                       56.801861      65.052841      15.142703\n",
              "AS                       44.579952      51.981182      14.104654\n",
              "YX                       61.147736      69.616348      14.052395"
            ]
          },
          "metadata": {
            "tags": []
          },
          "execution_count": 10
        }
      ]
    },
    {
      "cell_type": "code",
      "metadata": {
        "id": "L7oK9GZ8N1sX"
      },
      "source": [
        "#Time Based Analysis"
      ],
      "execution_count": 11,
      "outputs": []
    },
    {
      "cell_type": "code",
      "metadata": {
        "id": "c6KiFJQM05ux",
        "outputId": "a85b6851-c597-405e-855f-29c65c64f97a",
        "colab": {
          "base_uri": "https://localhost:8080/"
        }
      },
      "source": [
        "#Best time to catch a flight if not booked\n",
        "df['CRSDepTime'].value_counts()[:30]"
      ],
      "execution_count": 15,
      "outputs": [
        {
          "output_type": "execute_result",
          "data": {
            "text/plain": [
              "600     158369\n",
              "700     104555\n",
              "800      61397\n",
              "830      46639\n",
              "630      45992\n",
              "900      45422\n",
              "1000     45166\n",
              "730      44133\n",
              "615      39302\n",
              "1200     38852\n",
              "1100     37473\n",
              "1300     37417\n",
              "1700     36188\n",
              "1500     34950\n",
              "1400     34482\n",
              "1800     33439\n",
              "1600     32671\n",
              "1730     32625\n",
              "1130     32314\n",
              "1230     31992\n",
              "1830     31304\n",
              "715      30483\n",
              "815      30253\n",
              "820      30223\n",
              "930      30058\n",
              "610      29931\n",
              "1630     29393\n",
              "605      29285\n",
              "845      29247\n",
              "710      29118\n",
              "Name: CRSDepTime, dtype: int64"
            ]
          },
          "metadata": {
            "tags": []
          },
          "execution_count": 15
        }
      ]
    },
    {
      "cell_type": "code",
      "metadata": {
        "id": "GJ1MI2Qz1BqE",
        "outputId": "1a1ef42d-fa78-4ba2-a8a5-5e31fd0856d9",
        "colab": {
          "base_uri": "https://localhost:8080/",
          "height": 567
        }
      },
      "source": [
        "plt.figure(figsize=(14,8))\n",
        "sns.distplot(df['CRSDepTime'],bins=24,kde=False,hist_kws={'linewidth':3,'edgecolor':'black'})"
      ],
      "execution_count": 25,
      "outputs": [
        {
          "output_type": "stream",
          "text": [
            "/usr/local/lib/python3.6/dist-packages/seaborn/distributions.py:2551: FutureWarning: `distplot` is a deprecated function and will be removed in a future version. Please adapt your code to use either `displot` (a figure-level function with similar flexibility) or `histplot` (an axes-level function for histograms).\n",
            "  warnings.warn(msg, FutureWarning)\n"
          ],
          "name": "stderr"
        },
        {
          "output_type": "execute_result",
          "data": {
            "text/plain": [
              "<matplotlib.axes._subplots.AxesSubplot at 0x7efc0b364b38>"
            ]
          },
          "metadata": {
            "tags": []
          },
          "execution_count": 25
        },
        {
          "output_type": "display_data",
          "data": {
            "image/png": "[encoded data removed]",
            "text/plain": [
              "<Figure size 1008x576 with 1 Axes>"
            ]
          },
          "metadata": {
            "tags": [],
            "needs_background": "light"
          }
        }
      ]
    },
    {
      "cell_type": "code",
      "metadata": {
        "id": "d7vJCsgD1TSr",
        "outputId": "0185dfac-4fbc-466a-cef9-e05ec3b628a4",
        "colab": {
          "base_uri": "https://localhost:8080/",
          "height": 567
        }
      },
      "source": [
        "plt.figure(figsize=(14,8))\n",
        "sns.distplot(df['CRSArrTime'],bins=24,kde=False,hist_kws={'color':'g','linewidth':3,'edgecolor':'black'})"
      ],
      "execution_count": 26,
      "outputs": [
        {
          "output_type": "stream",
          "text": [
            "/usr/local/lib/python3.6/dist-packages/seaborn/distributions.py:2551: FutureWarning: `distplot` is a deprecated function and will be removed in a future version. Please adapt your code to use either `displot` (a figure-level function with similar flexibility) or `histplot` (an axes-level function for histograms).\n",
            "  warnings.warn(msg, FutureWarning)\n"
          ],
          "name": "stderr"
        },
        {
          "output_type": "execute_result",
          "data": {
            "text/plain": [
              "<matplotlib.axes._subplots.AxesSubplot at 0x7efc08281160>"
            ]
          },
          "metadata": {
            "tags": []
          },
          "execution_count": 26
        },
        {
          "output_type": "display_data",
          "data": {
            "image/png": "[encoded data removed]",
            "text/plain": [
              "<Figure size 1008x576 with 1 Axes>"
            ]
          },
          "metadata": {
            "tags": [],
            "needs_background": "light"
          }
        }
      ]
    },
    {
      "cell_type": "code",
      "metadata": {
        "id": "lZvbPGSYMW7S"
      },
      "source": [
        "# %%time\n",
        "# df\n",
        "\n",
        "# %%time\n",
        "# df['Tail_Number'].value_counts()\n",
        "\n",
        "# %%time\n",
        "# df.groupby(by='Tail_Number')[['Year']].count().sort_values(by='Year',ascending=False)\n",
        "\n",
        "# %%time\n",
        "# sns.distplot(df['Distance'],)"
      ],
      "execution_count": 32,
      "outputs": []
    },
    {
      "cell_type": "code",
      "metadata": {
        "id": "f37n7ujxszbu"
      },
      "source": [
        "#This operation is taking over 30 minutes.....\n",
        "#sns.countplot(df[[x in df['Tail_Number'].value_counts()[:100].index.tolist() for x in df['Tail_Number']]])"
      ],
      "execution_count": 30,
      "outputs": []
    },
    {
      "cell_type": "code",
      "metadata": {
        "id": "FybYi2cTwo2M"
      },
      "source": [
        "#https://www.kaggle.com/python10pm/pandas-100-tricks"
      ],
      "execution_count": 31,
      "outputs": []
    },
    {
      "cell_type": "code",
      "metadata": {
        "id": "CPfwFH65Fo4T"
      },
      "source": [
        "#try to find amount of traffic near a tail number to get correlation with delays and taxi time...."
      ],
      "execution_count": null,
      "outputs": []
    },
    {
      "cell_type": "code",
      "metadata": {
        "id": "myi4aiJoO7SK"
      },
      "source": [
        "# print(df.groupby(['FlightDate','Origin','DepTimeBlk'])[['Year']].count())\n",
        "# print(df.groupby(['FlightDate','Dest','ArrTimeBlk'])[['Year']].count())\n",
        "\n",
        "A = df.groupby(['FlightDate','Origin','DepTimeBlk'])[['Year']].count()\n",
        "B = df.groupby(['FlightDate','Dest','ArrTimeBlk'])[['Year']].count()"
      ],
      "execution_count": null,
      "outputs": []
    },
    {
      "cell_type": "code",
      "metadata": {
        "id": "3GYmGHs_Pi1O"
      },
      "source": [
        "Airport_Traffic = pd.concat([A,B],axis=1,ignore_index=True)\n",
        "Airport_Traffic.index.set_names(['Date','Airport','TimeBlk'],inplace=True)\n",
        "Airport_Traffic.fillna(0,inplace=True)\n",
        "Airport_Traffic['Count'] = Airport_Traffic.loc[:,0] + Airport_Traffic.loc[:,1]\n",
        "Airport_Traffic.drop([0,1],axis=1,inplace=True)\n",
        "print(Airport_Traffic.sort_values(by='Count',ascending=False).head(20))"
      ],
      "execution_count": null,
      "outputs": []
    },
    {
      "cell_type": "code",
      "metadata": {
        "id": "Yml8SQ0EW2ue"
      },
      "source": [
        "df = pd.merge(df,Airport_Traffic,left_on=['FlightDate','Origin','DepTimeBlk'],right_index=True).rename({'Count':'TrafficDepBlk'},axis=1)\n",
        "df = pd.merge(df,Airport_Traffic,left_on=['FlightDate','Dest','ArrTimeBlk'],right_index=True).rename({'Count':'TrafficArrBlk'},axis=1)"
      ],
      "execution_count": null,
      "outputs": []
    },
    {
      "cell_type": "code",
      "metadata": {
        "id": "Mggs8UKKctN9"
      },
      "source": [
        "df.columns"
      ],
      "execution_count": null,
      "outputs": []
    },
    {
      "cell_type": "code",
      "metadata": {
        "id": "q2C8fw9Meryi"
      },
      "source": [
        "df"
      ],
      "execution_count": null,
      "outputs": []
    },
    {
      "cell_type": "code",
      "metadata": {
        "id": "8Zmhwk1cfGm5"
      },
      "source": [
        "df['ActualElapsedTime'].sort_values(ascending=False)"
      ],
      "execution_count": null,
      "outputs": []
    },
    {
      "cell_type": "code",
      "metadata": {
        "id": "pbsWv60wNpDd"
      },
      "source": [
        "df.loc[1388655]"
      ],
      "execution_count": null,
      "outputs": []
    },
    {
      "cell_type": "code",
      "metadata": {
        "id": "GKx_xZQyPYNf"
      },
      "source": [
        "#from where do flights go to the bottom 3 least popular states like U.S. Pacific Trust Territories and Possessions "
      ],
      "execution_count": null,
      "outputs": []
    },
    {
      "cell_type": "code",
      "metadata": {
        "id": "rBzS6HvuD6YZ"
      },
      "source": [
        "!pip install hvplot"
      ],
      "execution_count": null,
      "outputs": []
    },
    {
      "cell_type": "code",
      "metadata": {
        "id": "2f2XfGBePq7g"
      },
      "source": [
        "df.plot(backend='hvplot',kind = \"hist\")"
      ],
      "execution_count": null,
      "outputs": []
    },
    {
      "cell_type": "code",
      "metadata": {
        "id": "wCeCoB-XExPG"
      },
      "source": [
        ""
      ],
      "execution_count": null,
      "outputs": []
    }
  ]
}